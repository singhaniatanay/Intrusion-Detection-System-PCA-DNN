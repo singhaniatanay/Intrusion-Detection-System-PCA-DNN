{
 "cells": [
  {
   "cell_type": "code",
   "execution_count": 1,
   "metadata": {},
   "outputs": [],
   "source": [
    "import os"
   ]
  },
  {
   "cell_type": "code",
   "execution_count": 4,
   "metadata": {},
   "outputs": [
    {
     "data": {
      "text/plain": [
       "['.DS_Store', 'combined_csv.csv', 'combined_1_csv.csv']"
      ]
     },
     "execution_count": 4,
     "metadata": {},
     "output_type": "execute_result"
    }
   ],
   "source": [
    "os.getcwd()\n",
    "os.listdir()"
   ]
  },
  {
   "cell_type": "code",
   "execution_count": 3,
   "metadata": {},
   "outputs": [],
   "source": [
    "os.chdir('..')\n",
    "os.chdir('..')\n",
    "os.chdir('./dataset')"
   ]
  },
  {
   "cell_type": "code",
   "execution_count": 5,
   "metadata": {},
   "outputs": [],
   "source": [
    "import pandas as pd"
   ]
  },
  {
   "cell_type": "markdown",
   "metadata": {},
   "source": [
    "## Combining 10 CSV into One"
   ]
  },
  {
   "cell_type": "code",
   "execution_count": 6,
   "metadata": {},
   "outputs": [],
   "source": [
    "import glob"
   ]
  },
  {
   "cell_type": "code",
   "execution_count": 8,
   "metadata": {},
   "outputs": [
    {
     "name": "stdout",
     "output_type": "stream",
     "text": [
      "10\n"
     ]
    }
   ],
   "source": [
    "extension = 'csv'\n",
    "all_filenames = [i for i in glob.glob('*.{}'.format(extension))]\n",
    "print(len(all_filenames))\n"
   ]
  },
  {
   "cell_type": "code",
   "execution_count": null,
   "metadata": {},
   "outputs": [
    {
     "name": "stderr",
     "output_type": "stream",
     "text": [
      "/Users/tanaysinghania/miniconda3/envs/py36/lib/python3.6/site-packages/IPython/core/interactiveshell.py:3072: DtypeWarning: Columns (0,1,3,4,5,6,7,8,9,10,11,12,13,14,15,16,17,18,19,20,21,22,23,24,25,26,27,28,29,30,31,32,33,34,35,36,37,38,39,40,41,42,43,44,45,46,47,48,49,50,51,52,53,54,55,56,57,58,59,60,61,62,63,64,65,66,67,68,69,70,71,72,73,74,75,76,77,78) have mixed types.Specify dtype option on import or set low_memory=False.\n",
      "  interactivity=interactivity, compiler=compiler, result=result)\n"
     ]
    },
    {
     "name": "stdout",
     "output_type": "stream",
     "text": [
      "Wednesday-28-02-2018_TrafficForML_CICFlowMeter.csv\n",
      "(613104, 80)\n",
      "-------------\n",
      "Thursday-01-03-2018_TrafficForML_CICFlowMeter.csv\n",
      "(331125, 80)\n",
      "-------------\n",
      "Friday-02-03-2018_TrafficForML_CICFlowMeter.csv\n",
      "(1048575, 80)\n",
      "-------------\n",
      "Thursday-22-02-2018_TrafficForML_CICFlowMeter.csv\n",
      "(1048575, 80)\n",
      "-------------\n",
      "Thursday-15-02-2018_TrafficForML_CICFlowMeter.csv\n",
      "(1048575, 80)\n",
      "-------------\n"
     ]
    }
   ],
   "source": [
    "for i in all_filenames:\n",
    "    if 'combined' in i:\n",
    "        continue\n",
    "    df = pd.read_csv('./'+str(i))\n",
    "    print(str(i))\n",
    "    print(df.shape)\n",
    "    print('-------------')"
   ]
  },
  {
   "cell_type": "code",
   "execution_count": 27,
   "metadata": {},
   "outputs": [
    {
     "name": "stderr",
     "output_type": "stream",
     "text": [
      "/Library/Frameworks/Python.framework/Versions/3.7/lib/python3.7/site-packages/IPython/core/interactiveshell.py:3057: DtypeWarning: Columns (20,21) have mixed types. Specify dtype option on import or set low_memory=False.\n",
      "  interactivity=interactivity, compiler=compiler, result=result)\n",
      "/Library/Frameworks/Python.framework/Versions/3.7/lib/python3.7/site-packages/IPython/core/interactiveshell.py:3057: DtypeWarning: Columns (0,1,3,4,5,6,7,8,9,10,11,12,13,14,15,16,18,19,20,21,22,23,24,25,26,27,28,29,30,31,32,33,34,35,36,37,38,39,40,41,42,43,44,45,46,47,48,49,50,51,52,53,54,55,56,57,58,59,60,61,62,63,64,65,66,67,68,69,70,71,72,73,74,75,76,77,78) have mixed types. Specify dtype option on import or set low_memory=False.\n",
      "  interactivity=interactivity, compiler=compiler, result=result)\n"
     ]
    }
   ],
   "source": [
    "fourGBwali = pd.read_csv('./Thuesday-20-02-2018_TrafficForML_CICFlowMeter.csv')\n",
    "otheCSV = pd.read_csv('./Thursday-01-03-2018_TrafficForML_CICFlowMeter.csv')\n",
    "cols_4GB = fourGBwali.columns\n",
    "cols_other = otheCSV.columns"
   ]
  },
  {
   "cell_type": "code",
   "execution_count": 31,
   "metadata": {},
   "outputs": [
    {
     "name": "stdout",
     "output_type": "stream",
     "text": [
      "Flow ID\n",
      "Src IP\n",
      "Src Port\n",
      "Dst IP\n",
      "-----\n"
     ]
    }
   ],
   "source": [
    "list_col = []\n",
    "\n",
    "for i in cols_4GB :\n",
    "    if(i in cols_other):\n",
    "        continue\n",
    "    else:\n",
    "        list_col.append(i)\n",
    "        print(i)\n",
    "print('-----')\n",
    "for i in cols_other :\n",
    "    if(i in cols_4GB):\n",
    "        continue\n",
    "    else:\n",
    "        list_col.append(i)\n",
    "        print(i)\n",
    "        "
   ]
  },
  {
   "cell_type": "code",
   "execution_count": 9,
   "metadata": {},
   "outputs": [
    {
     "name": "stderr",
     "output_type": "stream",
     "text": [
      "/Users/tanaysinghania/miniconda3/envs/py36/lib/python3.6/site-packages/IPython/core/interactiveshell.py:3263: DtypeWarning: Columns (0,1,3,4,5,6,7,8,9,10,11,12,13,14,15,16,17,18,19,20,21,22,23,24,25,26,27,28,29,30,31,32,33,34,35,36,37,38,39,40,41,42,43,44,45,46,47,48,49,50,51,52,53,54,55,56,57,58,59,60,61,62,63,64,65,66,67,68,69,70,71,72,73,74,75,76,77,78) have mixed types.Specify dtype option on import or set low_memory=False.\n",
      "  if (await self.run_code(code, result,  async_=asy)):\n"
     ]
    }
   ],
   "source": [
    "combined_csv = pd.concat([pd.read_csv(f) for f in all_filenames ])\n",
    "combined_csv.to_csv( \"combined_csv.csv\", index=False, encoding='utf-8-sig')"
   ]
  },
  {
   "cell_type": "code",
   "execution_count": null,
   "metadata": {},
   "outputs": [],
   "source": []
  },
  {
   "cell_type": "code",
   "execution_count": 9,
   "metadata": {},
   "outputs": [
    {
     "name": "stderr",
     "output_type": "stream",
     "text": [
      "/Library/Frameworks/Python.framework/Versions/3.7/lib/python3.7/site-packages/IPython/core/interactiveshell.py:3057: DtypeWarning: Columns (0,1,2,3,4,5,6,7,8,9,10,11,12,13,14,15,16,17,18,19,20,21,22,23,24,25,26,27,28,29,30,31,32,33,34,35,36,37,38,39,40,41,42,43,44,45,46,47,48,49,50,51,52,53,54,55,56,57,58,59,60,62,63,64,65,66,67,68,69,70,71,72,74,75,76,77,79,80,81,82,83) have mixed types. Specify dtype option on import or set low_memory=False.\n",
      "  interactivity=interactivity, compiler=compiler, result=result)\n"
     ]
    }
   ],
   "source": [
    "combined_csv = pd.read_csv('./combined_csv.csv')"
   ]
  },
  {
   "cell_type": "code",
   "execution_count": 10,
   "metadata": {},
   "outputs": [
    {
     "data": {
      "text/plain": [
       "(16233002, 84)"
      ]
     },
     "execution_count": 10,
     "metadata": {},
     "output_type": "execute_result"
    }
   ],
   "source": [
    "combined_csv.shape"
   ]
  },
  {
   "cell_type": "code",
   "execution_count": 12,
   "metadata": {},
   "outputs": [],
   "source": [
    "list_col = ['Flow ID','Src IP','Src Port','Dst IP']\n",
    "combined_csv = combined_csv.drop(columns=list_col)"
   ]
  },
  {
   "cell_type": "code",
   "execution_count": 13,
   "metadata": {},
   "outputs": [],
   "source": [
    "combined_csv.to_csv( \"combined_1_csv.csv\", index=False, encoding='utf-8-sig')"
   ]
  },
  {
   "cell_type": "code",
   "execution_count": null,
   "metadata": {},
   "outputs": [],
   "source": [
    "labels =  df.loc[:,'Label']\n",
    "labels.drop_duplicates()"
   ]
  },
  {
   "cell_type": "code",
   "execution_count": 39,
   "metadata": {},
   "outputs": [
    {
     "name": "stdout",
     "output_type": "stream",
     "text": [
      "-------------------Dst Port-------------------\n",
      "count     16173281\n",
      "unique       76792\n",
      "top             53\n",
      "freq       3999877\n",
      "Name: Dst Port, dtype: int64\n",
      "16173281\n",
      "-------------------Protocol-------------------\n",
      "count     16173281\n",
      "unique           7\n",
      "top              6\n",
      "freq      11521191\n",
      "Name: Protocol, dtype: int64\n",
      "16173281\n",
      "-------------------Timestamp-------------------\n",
      "count                16173281\n",
      "unique                 272355\n",
      "top       16/02/2018 01:45:28\n",
      "freq                     8403\n",
      "Name: Timestamp, dtype: object\n",
      "16173281\n",
      "-------------------Flow Duration-------------------\n",
      "count     16173281\n",
      "unique     5118592\n",
      "top              1\n",
      "freq        198971\n",
      "Name: Flow Duration, dtype: int64\n",
      "16173281\n",
      "-------------------Tot Fwd Pkts-------------------\n",
      "count     16173281\n",
      "unique        5682\n",
      "top              1\n",
      "freq       4370580\n",
      "Name: Tot Fwd Pkts, dtype: int64\n",
      "16173281\n",
      "-------------------Tot Bwd Pkts-------------------\n",
      "count     16173281\n",
      "unique        4756\n",
      "top              1\n",
      "freq       5018602\n",
      "Name: Tot Bwd Pkts, dtype: int64\n",
      "16173281\n",
      "-------------------TotLen Fwd Pkts-------------------\n",
      "count     16173281\n",
      "unique       23534\n",
      "top              0\n",
      "freq       4857694\n",
      "Name: TotLen Fwd Pkts, dtype: int64\n",
      "16173281\n",
      "-------------------TotLen Bwd Pkts-------------------\n",
      "count     16173281\n",
      "unique       98119\n",
      "top              0\n",
      "freq       5802300\n",
      "Name: TotLen Bwd Pkts, dtype: int64\n",
      "16173281\n",
      "-------------------Fwd Pkt Len Max-------------------\n",
      "count     16173281\n",
      "unique        2826\n",
      "top              0\n",
      "freq       4857694\n",
      "Name: Fwd Pkt Len Max, dtype: int64\n",
      "16173281\n",
      "-------------------Fwd Pkt Len Min-------------------\n",
      "count     16173281\n",
      "unique         610\n",
      "top              0\n",
      "freq      11710991\n",
      "Name: Fwd Pkt Len Min, dtype: int64\n",
      "16173281\n",
      "-------------------Fwd Pkt Len Mean-------------------\n",
      "count     16173281.0\n",
      "unique      176679.0\n",
      "top              0.0\n",
      "freq       4857694.0\n",
      "Name: Fwd Pkt Len Mean, dtype: float64\n",
      "16173281.0\n",
      "-------------------Fwd Pkt Len Std-------------------\n",
      "count     16173281.0\n",
      "unique      385018.0\n",
      "top              0.0\n",
      "freq       8987064.0\n",
      "Name: Fwd Pkt Len Std, dtype: float64\n",
      "16173281.0\n",
      "-------------------Bwd Pkt Len Max-------------------\n",
      "count     16173281\n",
      "unique        2281\n",
      "top              0\n",
      "freq       5802300\n",
      "Name: Bwd Pkt Len Max, dtype: int64\n",
      "16173281\n",
      "-------------------Bwd Pkt Len Min-------------------\n",
      "count     16173281\n",
      "unique         733\n",
      "top              0\n",
      "freq      11732718\n",
      "Name: Bwd Pkt Len Min, dtype: int64\n",
      "16173281\n",
      "-------------------Bwd Pkt Len Mean-------------------\n",
      "count     16173281.0\n",
      "unique      299714.0\n",
      "top              0.0\n",
      "freq       5802300.0\n",
      "Name: Bwd Pkt Len Mean, dtype: float64\n",
      "16173281.0\n",
      "-------------------Bwd Pkt Len Std-------------------\n",
      "count     16173281.0\n",
      "unique      434786.0\n",
      "top              0.0\n",
      "freq       9906816.0\n",
      "Name: Bwd Pkt Len Std, dtype: float64\n",
      "16173281.0\n",
      "-------------------Flow Byts/s-------------------\n",
      "count     16173281.0\n",
      "unique     7093489.0\n",
      "top              0.0\n",
      "freq       4852564.0\n",
      "Name: Flow Byts/s, dtype: float64\n",
      "16173281.0\n",
      "-------------------Flow Pkts/s-------------------\n",
      "count     16173281.0\n",
      "unique     6642053.0\n",
      "top        2000000.0\n",
      "freq        182609.0\n",
      "Name: Flow Pkts/s, dtype: float64\n",
      "16173281.0\n",
      "-------------------Flow IAT Mean-------------------\n",
      "count     16173281.0\n",
      "unique     6064196.0\n",
      "top              1.0\n",
      "freq        189987.0\n",
      "Name: Flow IAT Mean, dtype: float64\n",
      "16173281.0\n",
      "-------------------Flow IAT Std-------------------\n",
      "count     16173281.0\n",
      "unique     7405385.0\n",
      "top              0.0\n",
      "freq       7616056.0\n",
      "Name: Flow IAT Std, dtype: float64\n",
      "16173281.0\n",
      "-------------------Flow IAT Max-------------------\n",
      "count     16173281\n",
      "unique     3088016\n",
      "top              1\n",
      "freq        201751\n",
      "Name: Flow IAT Max, dtype: int64\n",
      "16173281\n",
      "-------------------Flow IAT Min-------------------\n",
      "count     16173281\n",
      "unique      783044\n",
      "top              1\n",
      "freq       1189135\n",
      "Name: Flow IAT Min, dtype: int64\n",
      "16173281\n",
      "-------------------Fwd IAT Tot-------------------\n",
      "count     16173281\n",
      "unique     4333226\n",
      "top              0\n",
      "freq       4405420\n",
      "Name: Fwd IAT Tot, dtype: int64\n",
      "16173281\n",
      "-------------------Fwd IAT Mean-------------------\n",
      "count     16173281.0\n",
      "unique     5172074.0\n",
      "top              0.0\n",
      "freq       4405420.0\n",
      "Name: Fwd IAT Mean, dtype: float64\n",
      "16173281.0\n",
      "-------------------Fwd IAT Std-------------------\n",
      "count     16173281.0\n",
      "unique     5484870.0\n",
      "top              0.0\n",
      "freq       8554580.0\n",
      "Name: Fwd IAT Std, dtype: float64\n",
      "16173281.0\n",
      "-------------------Fwd IAT Max-------------------\n",
      "count     16173281\n",
      "unique     2884359\n",
      "top              0\n",
      "freq       4405420\n",
      "Name: Fwd IAT Max, dtype: int64\n",
      "16173281\n",
      "-------------------Fwd IAT Min-------------------\n",
      "count     16173281\n",
      "unique      959516\n",
      "top              0\n",
      "freq       4536911\n",
      "Name: Fwd IAT Min, dtype: int64\n",
      "16173281\n",
      "-------------------Bwd IAT Tot-------------------\n",
      "count     16173281\n",
      "unique     3557663\n",
      "top              0\n",
      "freq       9077102\n",
      "Name: Bwd IAT Tot, dtype: int64\n",
      "16173281\n",
      "-------------------Bwd IAT Mean-------------------\n",
      "count     16173281.0\n",
      "unique     4314141.0\n",
      "top              0.0\n",
      "freq       9077102.0\n",
      "Name: Bwd IAT Mean, dtype: float64\n",
      "16173281.0\n",
      "-------------------Bwd IAT Std-------------------\n",
      "count     16173281.0\n",
      "unique     5126047.0\n",
      "top              0.0\n",
      "freq      10206511.0\n",
      "Name: Bwd IAT Std, dtype: float64\n",
      "16173281.0\n",
      "-------------------Bwd IAT Max-------------------\n",
      "count     16173281\n",
      "unique     2030188\n",
      "top              0\n",
      "freq       9077102\n",
      "Name: Bwd IAT Max, dtype: int64\n",
      "16173281\n",
      "-------------------Bwd IAT Min-------------------\n",
      "count     16173281\n",
      "unique      495232\n",
      "top              0\n",
      "freq       9677157\n",
      "Name: Bwd IAT Min, dtype: int64\n",
      "16173281\n",
      "-------------------Fwd PSH Flags-------------------\n",
      "count     16173281\n",
      "unique           5\n",
      "top              0\n",
      "freq      15178584\n",
      "Name: Fwd PSH Flags, dtype: int64\n",
      "16173281\n",
      "-------------------Bwd PSH Flags-------------------\n",
      "count     16173281\n",
      "unique           3\n",
      "top              0\n",
      "freq      15869648\n",
      "Name: Bwd PSH Flags, dtype: int64\n",
      "16173281\n",
      "-------------------Fwd URG Flags-------------------\n",
      "count     16173281\n",
      "unique           5\n",
      "top              0\n",
      "freq      15868023\n",
      "Name: Fwd URG Flags, dtype: int64\n",
      "16173281\n",
      "-------------------Bwd URG Flags-------------------\n",
      "count     16173281\n",
      "unique           3\n",
      "top              0\n",
      "freq      15869648\n",
      "Name: Bwd URG Flags, dtype: int64\n",
      "16173281\n",
      "-------------------Fwd Header Len-------------------\n",
      "count     16173281\n",
      "unique        8807\n",
      "top              8\n",
      "freq       3322023\n",
      "Name: Fwd Header Len, dtype: int64\n",
      "16173281\n",
      "-------------------Bwd Header Len-------------------\n",
      "count     16173281\n",
      "unique        8158\n",
      "top              0\n",
      "freq       4032285\n",
      "Name: Bwd Header Len, dtype: int64\n",
      "16173281\n",
      "-------------------Fwd Pkts/s-------------------\n",
      "count     16173281.0\n",
      "unique     6564972.0\n",
      "top         500000.0\n",
      "freq        153988.0\n",
      "Name: Fwd Pkts/s, dtype: float64\n",
      "16173281.0\n",
      "-------------------Bwd Pkts/s-------------------\n",
      "count     16173281.0\n",
      "unique     5408927.0\n",
      "top              0.0\n",
      "freq       4022929.0\n",
      "Name: Bwd Pkts/s, dtype: float64\n",
      "16173281.0\n",
      "-------------------Pkt Len Min-------------------\n",
      "count     16173281\n",
      "unique         244\n",
      "top              0\n",
      "freq      11737102\n",
      "Name: Pkt Len Min, dtype: int64\n",
      "16173281\n",
      "-------------------Pkt Len Max-------------------\n",
      "count     16173281\n",
      "unique        2473\n",
      "top              0\n",
      "freq       4852564\n",
      "Name: Pkt Len Max, dtype: int64\n",
      "16173281\n",
      "-------------------Pkt Len Mean-------------------\n",
      "count     16173281.0\n",
      "unique      479538.0\n",
      "top              0.0\n",
      "freq       4852564.0\n",
      "Name: Pkt Len Mean, dtype: float64\n",
      "16173281.0\n",
      "-------------------Pkt Len Std-------------------\n",
      "count     16173281.0\n",
      "unique      683528.0\n",
      "top              0.0\n",
      "freq       4969791.0\n",
      "Name: Pkt Len Std, dtype: float64\n",
      "16173281.0\n",
      "-------------------Pkt Len Var-------------------\n",
      "count     16173281.0\n",
      "unique      684673.0\n",
      "top              0.0\n",
      "freq       4969791.0\n",
      "Name: Pkt Len Var, dtype: float64\n",
      "16173281.0\n",
      "-------------------FIN Flag Cnt-------------------\n",
      "count     16173281\n",
      "unique           5\n",
      "top              0\n",
      "freq      15800661\n",
      "Name: FIN Flag Cnt, dtype: int64\n",
      "16173281\n",
      "-------------------SYN Flag Cnt-------------------\n",
      "count     16173281\n",
      "unique           5\n",
      "top              0\n",
      "freq      15178584\n",
      "Name: SYN Flag Cnt, dtype: int64\n",
      "16173281\n",
      "-------------------RST Flag Cnt-------------------\n"
     ]
    },
    {
     "name": "stdout",
     "output_type": "stream",
     "text": [
      "count     16173281\n",
      "unique           5\n",
      "top              0\n",
      "freq      12897063\n",
      "Name: RST Flag Cnt, dtype: int64\n",
      "16173281\n",
      "-------------------PSH Flag Cnt-------------------\n",
      "count     16173281\n",
      "unique           5\n",
      "top              0\n",
      "freq       9653277\n",
      "Name: PSH Flag Cnt, dtype: int64\n",
      "16173281\n",
      "-------------------ACK Flag Cnt-------------------\n",
      "count     16173281\n",
      "unique           5\n",
      "top              0\n",
      "freq      10608925\n",
      "Name: ACK Flag Cnt, dtype: int64\n",
      "16173281\n",
      "-------------------URG Flag Cnt-------------------\n",
      "count     16173281\n",
      "unique           5\n",
      "top              0\n",
      "freq      15205334\n",
      "Name: URG Flag Cnt, dtype: int64\n",
      "16173281\n",
      "-------------------CWE Flag Count-------------------\n",
      "count     16173281\n",
      "unique           5\n",
      "top              0\n",
      "freq      15868023\n",
      "Name: CWE Flag Count, dtype: int64\n",
      "16173281\n",
      "-------------------ECE Flag Cnt-------------------\n",
      "count     16173281\n",
      "unique           5\n",
      "top              0\n",
      "freq      12897051\n",
      "Name: ECE Flag Cnt, dtype: int64\n",
      "16173281\n",
      "-------------------Down/Up Ratio-------------------\n",
      "count     16173281\n",
      "unique         262\n",
      "top              0\n",
      "freq       8294724\n",
      "Name: Down/Up Ratio, dtype: int64\n",
      "16173281\n",
      "-------------------Pkt Size Avg-------------------\n",
      "count     16173281.0\n",
      "unique      412643.0\n",
      "top              0.0\n",
      "freq       4852564.0\n",
      "Name: Pkt Size Avg, dtype: float64\n",
      "16173281.0\n",
      "-------------------Fwd Seg Size Avg-------------------\n",
      "count     16173281.0\n",
      "unique      149098.0\n",
      "top              0.0\n",
      "freq       4857694.0\n",
      "Name: Fwd Seg Size Avg, dtype: float64\n",
      "16173281.0\n",
      "-------------------Bwd Seg Size Avg-------------------\n",
      "count     16173281.0\n",
      "unique      268118.0\n",
      "top              0.0\n",
      "freq       5802300.0\n",
      "Name: Bwd Seg Size Avg, dtype: float64\n",
      "16173281.0\n",
      "-------------------Fwd Byts/b Avg-------------------\n",
      "count     16173281\n",
      "unique           3\n",
      "top              0\n",
      "freq      15869648\n",
      "Name: Fwd Byts/b Avg, dtype: int64\n",
      "16173281\n",
      "-------------------Fwd Pkts/b Avg-------------------\n",
      "count     16173281\n",
      "unique           3\n",
      "top              0\n",
      "freq      15869648\n",
      "Name: Fwd Pkts/b Avg, dtype: int64\n",
      "16173281\n",
      "-------------------Fwd Blk Rate Avg-------------------\n",
      "count     16173281\n",
      "unique           3\n",
      "top              0\n",
      "freq      15869648\n",
      "Name: Fwd Blk Rate Avg, dtype: int64\n",
      "16173281\n",
      "-------------------Bwd Byts/b Avg-------------------\n",
      "count     16173281\n",
      "unique           3\n",
      "top              0\n",
      "freq      15869648\n",
      "Name: Bwd Byts/b Avg, dtype: int64\n",
      "16173281\n",
      "-------------------Bwd Pkts/b Avg-------------------\n",
      "count     16173281\n",
      "unique           3\n",
      "top              0\n",
      "freq      15869648\n",
      "Name: Bwd Pkts/b Avg, dtype: int64\n",
      "16173281\n",
      "-------------------Bwd Blk Rate Avg-------------------\n",
      "count     16173281\n",
      "unique           3\n",
      "top              0\n",
      "freq      15869648\n",
      "Name: Bwd Blk Rate Avg, dtype: int64\n",
      "16173281\n",
      "-------------------Subflow Fwd Pkts-------------------\n",
      "count     16173281\n",
      "unique        5682\n",
      "top              1\n",
      "freq       4370580\n",
      "Name: Subflow Fwd Pkts, dtype: int64\n",
      "16173281\n",
      "-------------------Subflow Fwd Byts-------------------\n",
      "count     16173281\n",
      "unique       23534\n",
      "top              0\n",
      "freq       4857694\n",
      "Name: Subflow Fwd Byts, dtype: int64\n",
      "16173281\n",
      "-------------------Subflow Bwd Pkts-------------------\n",
      "count     16173281\n",
      "unique        4756\n",
      "top              1\n",
      "freq       5018602\n",
      "Name: Subflow Bwd Pkts, dtype: int64\n",
      "16173281\n",
      "-------------------Subflow Bwd Byts-------------------\n",
      "count     16173281\n",
      "unique       98116\n",
      "top              0\n",
      "freq       5802300\n",
      "Name: Subflow Bwd Byts, dtype: int64\n",
      "16173281\n",
      "-------------------Init Fwd Win Byts-------------------\n",
      "count     16173281\n",
      "unique       17726\n",
      "top           8192\n",
      "freq       5038602\n",
      "Name: Init Fwd Win Byts, dtype: int64\n",
      "16173281\n",
      "-------------------Init Bwd Win Byts-------------------\n",
      "count     16173281\n",
      "unique       17504\n",
      "top             -1\n",
      "freq       8065921\n",
      "Name: Init Bwd Win Byts, dtype: int64\n",
      "16173281\n",
      "-------------------Fwd Act Data Pkts-------------------\n",
      "count     16173281\n",
      "unique        3026\n",
      "top              0\n",
      "freq       8434092\n",
      "Name: Fwd Act Data Pkts, dtype: int64\n",
      "16173281\n",
      "-------------------Fwd Seg Size Min-------------------\n",
      "count     16173281\n",
      "unique          21\n",
      "top             20\n",
      "freq       9884918\n",
      "Name: Fwd Seg Size Min, dtype: int64\n",
      "16173281\n",
      "-------------------Active Mean-------------------\n",
      "count     16173281.0\n",
      "unique     1246439.0\n",
      "top              0.0\n",
      "freq      14292119.0\n",
      "Name: Active Mean, dtype: float64\n",
      "16173281.0\n",
      "-------------------Active Std-------------------\n",
      "count     16173281.0\n",
      "unique     1072689.0\n",
      "top              0.0\n",
      "freq      14774461.0\n",
      "Name: Active Std, dtype: float64\n",
      "16173281.0\n",
      "-------------------Active Max-------------------\n",
      "count     16173281\n",
      "unique      926566\n",
      "top              0\n",
      "freq      14292119\n",
      "Name: Active Max, dtype: int64\n",
      "16173281\n",
      "-------------------Active Min-------------------\n",
      "count     16173281\n",
      "unique      444120\n",
      "top              0\n",
      "freq      14292119\n",
      "Name: Active Min, dtype: int64\n",
      "16173281\n",
      "-------------------Idle Mean-------------------\n",
      "count     16173281.0\n",
      "unique     1649029.0\n",
      "top              0.0\n",
      "freq      13577797.0\n",
      "Name: Idle Mean, dtype: float64\n",
      "16173281.0\n",
      "-------------------Idle Std-------------------\n",
      "count     16173281.0\n",
      "unique     1119334.0\n",
      "top              0.0\n",
      "freq      14620598.0\n",
      "Name: Idle Std, dtype: float64\n",
      "16173281.0\n",
      "-------------------Idle Max-------------------\n",
      "count     16173281\n",
      "unique     1113945\n",
      "top              0\n",
      "freq      13577797\n",
      "Name: Idle Max, dtype: int64\n",
      "16173281\n",
      "-------------------Idle Min-------------------\n",
      "count     16173281\n",
      "unique     1264754\n",
      "top              0\n",
      "freq      13577797\n",
      "Name: Idle Min, dtype: int64\n",
      "16173281\n",
      "-------------------Label-------------------\n",
      "count     16173281\n",
      "unique          16\n",
      "top         Benign\n",
      "freq      13425831\n",
      "Name: Label, dtype: object\n",
      "16173281\n"
     ]
    }
   ],
   "source": [
    "# list_of_val_col = []\n",
    "for i in combined_csv.columns:\n",
    "    print('-------------------'+str(i)+'-------------------')\n",
    "    description = combined_csv.loc[:,i].describe()\n",
    "    print(description)\n",
    "    print(description['count'])\n",
    "#     if(description['unique']!=df.shape[0]):\n",
    "#         list_of_val_col.append(i)"
   ]
  },
  {
   "cell_type": "code",
   "execution_count": 14,
   "metadata": {},
   "outputs": [
    {
     "data": {
      "text/plain": [
       "Benign                      13484708\n",
       "DDOS attack-HOIC              686012\n",
       "DDoS attacks-LOIC-HTTP        576191\n",
       "DoS attacks-Hulk              461912\n",
       "Bot                           286191\n",
       "FTP-BruteForce                193360\n",
       "SSH-Bruteforce                187589\n",
       "Infilteration                 161934\n",
       "DoS attacks-SlowHTTPTest      139890\n",
       "DoS attacks-GoldenEye          41508\n",
       "DoS attacks-Slowloris          10990\n",
       "DDOS attack-LOIC-UDP            1730\n",
       "Brute Force -Web                 611\n",
       "Brute Force -XSS                 230\n",
       "SQL Injection                     87\n",
       "Label                             59\n",
       "Name: Label, dtype: int64"
      ]
     },
     "execution_count": 14,
     "metadata": {},
     "output_type": "execute_result"
    }
   ],
   "source": [
    "combined_csv['Label'].value_counts()"
   ]
  },
  {
   "cell_type": "code",
   "execution_count": 15,
   "metadata": {},
   "outputs": [
    {
     "name": "stdout",
     "output_type": "stream",
     "text": [
      "Index(['Flow Byts/s'], dtype='object')\n"
     ]
    }
   ],
   "source": [
    "null_columns=combined_csv.columns[combined_csv.isnull().any()]\n",
    "print(null_columns)"
   ]
  },
  {
   "cell_type": "markdown",
   "metadata": {},
   "source": [
    "### Dropping Null Rows"
   ]
  },
  {
   "cell_type": "code",
   "execution_count": null,
   "metadata": {},
   "outputs": [],
   "source": [
    "c_df = pd.read_csv('combined_1_csv.csv')"
   ]
  },
  {
   "cell_type": "code",
   "execution_count": 16,
   "metadata": {},
   "outputs": [
    {
     "ename": "NameError",
     "evalue": "name 'c_df' is not defined",
     "output_type": "error",
     "traceback": [
      "\u001b[0;31m---------------------------------------------------------------------------\u001b[0m",
      "\u001b[0;31mNameError\u001b[0m                                 Traceback (most recent call last)",
      "\u001b[0;32m<ipython-input-16-6e9730211d37>\u001b[0m in \u001b[0;36m<module>\u001b[0;34m\u001b[0m\n\u001b[0;32m----> 1\u001b[0;31m \u001b[0mresult\u001b[0m \u001b[0;34m=\u001b[0m \u001b[0mpd\u001b[0m\u001b[0;34m.\u001b[0m\u001b[0mconcat\u001b[0m\u001b[0;34m(\u001b[0m\u001b[0;34m[\u001b[0m\u001b[0mc_df\u001b[0m\u001b[0;34m,\u001b[0m \u001b[0my\u001b[0m\u001b[0;34m]\u001b[0m\u001b[0;34m,\u001b[0m \u001b[0maxis\u001b[0m\u001b[0;34m=\u001b[0m\u001b[0;36m1\u001b[0m\u001b[0;34m,\u001b[0m \u001b[0msort\u001b[0m\u001b[0;34m=\u001b[0m\u001b[0;32mFalse\u001b[0m\u001b[0;34m)\u001b[0m\u001b[0;34m\u001b[0m\u001b[0;34m\u001b[0m\u001b[0m\n\u001b[0m\u001b[1;32m      2\u001b[0m \u001b[0mprint\u001b[0m\u001b[0;34m(\u001b[0m\u001b[0mresult\u001b[0m\u001b[0;34m.\u001b[0m\u001b[0mshape\u001b[0m\u001b[0;34m)\u001b[0m\u001b[0;34m\u001b[0m\u001b[0;34m\u001b[0m\u001b[0m\n",
      "\u001b[0;31mNameError\u001b[0m: name 'c_df' is not defined"
     ]
    }
   ],
   "source": [
    "result = pd.concat([c_df, y], axis=1, sort=False)\n",
    "print(result.shape)"
   ]
  },
  {
   "cell_type": "code",
   "execution_count": 41,
   "metadata": {},
   "outputs": [
    {
     "ename": "NameError",
     "evalue": "name 'result' is not defined",
     "output_type": "error",
     "traceback": [
      "\u001b[0;31m---------------------------------------------------------------------------\u001b[0m",
      "\u001b[0;31mNameError\u001b[0m                                 Traceback (most recent call last)",
      "\u001b[0;32m<ipython-input-41-6f19630413ac>\u001b[0m in \u001b[0;36m<module>\u001b[0;34m\u001b[0m\n\u001b[1;32m      1\u001b[0m \u001b[0mdf2\u001b[0m \u001b[0;34m=\u001b[0m \u001b[0mdf2\u001b[0m\u001b[0;34m.\u001b[0m\u001b[0mdrop\u001b[0m\u001b[0;34m(\u001b[0m\u001b[0mcolumns\u001b[0m\u001b[0;34m=\u001b[0m\u001b[0;34m[\u001b[0m\u001b[0;34m'Fwd Act Data Pkts'\u001b[0m\u001b[0;34m]\u001b[0m\u001b[0;34m)\u001b[0m\u001b[0;34m\u001b[0m\u001b[0;34m\u001b[0m\u001b[0m\n\u001b[0;32m----> 2\u001b[0;31m \u001b[0mprint\u001b[0m\u001b[0;34m(\u001b[0m\u001b[0mresult\u001b[0m\u001b[0;34m.\u001b[0m\u001b[0mshape\u001b[0m\u001b[0;34m)\u001b[0m\u001b[0;34m\u001b[0m\u001b[0;34m\u001b[0m\u001b[0m\n\u001b[0m\u001b[1;32m      3\u001b[0m \u001b[0mprint\u001b[0m\u001b[0;34m(\u001b[0m\u001b[0mresult\u001b[0m\u001b[0;34m.\u001b[0m\u001b[0mhead\u001b[0m\u001b[0;34m(\u001b[0m\u001b[0;34m)\u001b[0m\u001b[0;34m)\u001b[0m\u001b[0;34m\u001b[0m\u001b[0;34m\u001b[0m\u001b[0m\n",
      "\u001b[0;31mNameError\u001b[0m: name 'result' is not defined"
     ]
    }
   ],
   "source": [
    "df2 = df2.drop(columns=['Fwd Act Data Pkts'])\n",
    "print(result.shape)\n",
    "print(result.head())"
   ]
  },
  {
   "cell_type": "code",
   "execution_count": null,
   "metadata": {},
   "outputs": [],
   "source": []
  },
  {
   "cell_type": "code",
   "execution_count": 34,
   "metadata": {},
   "outputs": [],
   "source": [
    "result=result.dropna(axis=0, how='any')"
   ]
  },
  {
   "cell_type": "code",
   "execution_count": 35,
   "metadata": {},
   "outputs": [
    {
     "data": {
      "text/plain": [
       "(4991201, 36)"
      ]
     },
     "execution_count": 35,
     "metadata": {},
     "output_type": "execute_result"
    }
   ],
   "source": [
    "result.shape"
   ]
  },
  {
   "cell_type": "code",
   "execution_count": null,
   "metadata": {},
   "outputs": [],
   "source": [
    "combined_csv.shape"
   ]
  },
  {
   "cell_type": "code",
   "execution_count": 8,
   "metadata": {},
   "outputs": [],
   "source": [
    "c_df=c_df.dropna(axis=0, how='any')"
   ]
  },
  {
   "cell_type": "code",
   "execution_count": 44,
   "metadata": {},
   "outputs": [],
   "source": [
    "c_df.to_csv( \"combined_csv.csv\", index=False, encoding='utf-8-sig')"
   ]
  },
  {
   "cell_type": "markdown",
   "metadata": {},
   "source": [
    "### Load Data Set"
   ]
  },
  {
   "cell_type": "code",
   "execution_count": 23,
   "metadata": {},
   "outputs": [],
   "source": [
    "c_df = combined_csv"
   ]
  },
  {
   "cell_type": "code",
   "execution_count": 6,
   "metadata": {},
   "outputs": [],
   "source": [
    "from dask import dataframe as dd"
   ]
  },
  {
   "cell_type": "code",
   "execution_count": null,
   "metadata": {},
   "outputs": [],
   "source": [
    "c_df.shape"
   ]
  },
  {
   "cell_type": "code",
   "execution_count": 21,
   "metadata": {},
   "outputs": [
    {
     "name": "stdout",
     "output_type": "stream",
     "text": [
      "Dst Port\n",
      "(15869648, 80)\n",
      "Protocol\n",
      "(15869648, 80)\n",
      "Timestamp\n",
      "(0, 80)\n",
      "Flow Duration\n",
      "(0, 80)\n",
      "Tot Fwd Pkts\n",
      "(0, 80)\n",
      "Tot Bwd Pkts\n",
      "(0, 80)\n",
      "TotLen Fwd Pkts\n",
      "(0, 80)\n",
      "TotLen Bwd Pkts\n",
      "(0, 80)\n",
      "Fwd Pkt Len Max\n",
      "(0, 80)\n",
      "Fwd Pkt Len Min\n",
      "(0, 80)\n",
      "Fwd Pkt Len Mean\n",
      "(0, 80)\n",
      "Fwd Pkt Len Std\n",
      "(0, 80)\n",
      "Bwd Pkt Len Max\n",
      "(0, 80)\n",
      "Bwd Pkt Len Min\n",
      "(0, 80)\n",
      "Bwd Pkt Len Mean\n",
      "(0, 80)\n",
      "Bwd Pkt Len Std\n",
      "(0, 80)\n",
      "Flow Byts/s\n",
      "(0, 80)\n",
      "Flow Pkts/s\n",
      "(0, 80)\n",
      "Flow IAT Mean\n",
      "(0, 80)\n",
      "Flow IAT Std\n",
      "(0, 80)\n",
      "Flow IAT Max\n",
      "(0, 80)\n",
      "Flow IAT Min\n",
      "(0, 80)\n",
      "Fwd IAT Tot\n",
      "(0, 80)\n",
      "Fwd IAT Mean\n",
      "(0, 80)\n",
      "Fwd IAT Std\n",
      "(0, 80)\n",
      "Fwd IAT Max\n",
      "(0, 80)\n",
      "Fwd IAT Min\n",
      "(0, 80)\n",
      "Bwd IAT Tot\n",
      "(0, 80)\n",
      "Bwd IAT Mean\n",
      "(0, 80)\n",
      "Bwd IAT Std\n",
      "(0, 80)\n",
      "Bwd IAT Max\n",
      "(0, 80)\n",
      "Bwd IAT Min\n",
      "(0, 80)\n",
      "Fwd PSH Flags\n",
      "(0, 80)\n",
      "Bwd PSH Flags\n",
      "(0, 80)\n",
      "Fwd URG Flags\n",
      "(0, 80)\n",
      "Bwd URG Flags\n",
      "(0, 80)\n",
      "Fwd Header Len\n",
      "(0, 80)\n",
      "Bwd Header Len\n",
      "(0, 80)\n",
      "Fwd Pkts/s\n",
      "(0, 80)\n",
      "Bwd Pkts/s\n",
      "(0, 80)\n",
      "Pkt Len Min\n",
      "(0, 80)\n",
      "Pkt Len Max\n",
      "(0, 80)\n",
      "Pkt Len Mean\n",
      "(0, 80)\n",
      "Pkt Len Std\n",
      "(0, 80)\n",
      "Pkt Len Var\n",
      "(0, 80)\n",
      "FIN Flag Cnt\n",
      "(0, 80)\n",
      "SYN Flag Cnt\n",
      "(0, 80)\n",
      "RST Flag Cnt\n",
      "(0, 80)\n",
      "PSH Flag Cnt\n",
      "(0, 80)\n",
      "ACK Flag Cnt\n",
      "(0, 80)\n",
      "URG Flag Cnt\n",
      "(0, 80)\n",
      "CWE Flag Count\n",
      "(0, 80)\n",
      "ECE Flag Cnt\n",
      "(0, 80)\n",
      "Down/Up Ratio\n",
      "(0, 80)\n",
      "Pkt Size Avg\n",
      "(0, 80)\n",
      "Fwd Seg Size Avg\n",
      "(0, 80)\n",
      "Bwd Seg Size Avg\n",
      "(0, 80)\n",
      "Fwd Byts/b Avg\n",
      "(0, 80)\n",
      "Fwd Pkts/b Avg\n",
      "(0, 80)\n",
      "Fwd Blk Rate Avg\n",
      "(0, 80)\n",
      "Bwd Byts/b Avg\n",
      "(0, 80)\n",
      "Bwd Pkts/b Avg\n",
      "(0, 80)\n",
      "Bwd Blk Rate Avg\n",
      "(0, 80)\n",
      "Subflow Fwd Pkts\n",
      "(0, 80)\n",
      "Subflow Fwd Byts\n",
      "(0, 80)\n",
      "Subflow Bwd Pkts\n",
      "(0, 80)\n",
      "Subflow Bwd Byts\n",
      "(0, 80)\n",
      "Init Fwd Win Byts\n",
      "(0, 80)\n",
      "Init Bwd Win Byts\n",
      "(0, 80)\n",
      "Fwd Act Data Pkts\n",
      "(0, 80)\n",
      "Fwd Seg Size Min\n",
      "(0, 80)\n",
      "Active Mean\n",
      "(0, 80)\n",
      "Active Std\n",
      "(0, 80)\n",
      "Active Max\n",
      "(0, 80)\n",
      "Active Min\n",
      "(0, 80)\n",
      "Idle Mean\n",
      "(0, 80)\n",
      "Idle Std\n",
      "(0, 80)\n",
      "Idle Max\n",
      "(0, 80)\n",
      "Idle Min\n",
      "(0, 80)\n",
      "Label\n"
     ]
    }
   ],
   "source": [
    "for i in c_df.columns:\n",
    "    print(i)\n",
    "    if i=='Label':\n",
    "        continue\n",
    "    c_df = c_df[c_df[i].apply(type)!=type('abc')]\n",
    "    print(c_df.shape)"
   ]
  },
  {
   "cell_type": "code",
   "execution_count": 25,
   "metadata": {},
   "outputs": [
    {
     "data": {
      "text/plain": [
       "0           True\n",
       "1           True\n",
       "2           True\n",
       "3           True\n",
       "4           True\n",
       "            ... \n",
       "16173276    True\n",
       "16173277    True\n",
       "16173278    True\n",
       "16173279    True\n",
       "16173280    True\n",
       "Name: Dst Port, Length: 16173281, dtype: bool"
      ]
     },
     "execution_count": 25,
     "metadata": {},
     "output_type": "execute_result"
    }
   ],
   "source": [
    "c_df['Dst Port'].apply(type)!=type('abc')"
   ]
  },
  {
   "cell_type": "markdown",
   "metadata": {},
   "source": [
    "## Resampling of Data (UpSample) - Balancing"
   ]
  },
  {
   "cell_type": "code",
   "execution_count": 36,
   "metadata": {},
   "outputs": [
    {
     "name": "stdout",
     "output_type": "stream",
     "text": [
      "(4991201, 35)\n",
      "(4991201,)\n"
     ]
    }
   ],
   "source": [
    "Y = result.loc[:,'Label']\n",
    "X = result.drop(columns=['Label'])\n",
    "print(X.shape)\n",
    "print(Y.shape)"
   ]
  },
  {
   "cell_type": "code",
   "execution_count": 9,
   "metadata": {},
   "outputs": [],
   "source": [
    "X = X.rename(columns={'ACK Flag Cnt' : 'ack_fl_cnt'})"
   ]
  },
  {
   "cell_type": "code",
   "execution_count": null,
   "metadata": {},
   "outputs": [],
   "source": [
    "c_df = c_df.rename(columns={'ACK Flag Cnt' : 'ack_fl_cnt'})"
   ]
  },
  {
   "cell_type": "code",
   "execution_count": null,
   "metadata": {},
   "outputs": [],
   "source": [
    "df2 = c_df[c_df.ack_fl_cnt !='ACK Flag Cnt']"
   ]
  },
  {
   "cell_type": "code",
   "execution_count": null,
   "metadata": {},
   "outputs": [],
   "source": [
    "df2.shape"
   ]
  },
  {
   "cell_type": "code",
   "execution_count": 43,
   "metadata": {},
   "outputs": [
    {
     "name": "stdout",
     "output_type": "stream",
     "text": [
      "(16173222, 77)\n",
      "(16173222,)\n"
     ]
    }
   ],
   "source": [
    "Y = df2.loc[:,'Label']\n",
    "X = df2.drop(columns=['Label'])\n",
    "print(X.shape)\n",
    "print(Y.shape)"
   ]
  },
  {
   "cell_type": "code",
   "execution_count": 36,
   "metadata": {},
   "outputs": [],
   "source": [
    "df2=df2.dropna(axis=0, how='any')"
   ]
  },
  {
   "cell_type": "code",
   "execution_count": 37,
   "metadata": {},
   "outputs": [
    {
     "data": {
      "text/plain": [
       "(16173222, 79)"
      ]
     },
     "execution_count": 37,
     "metadata": {},
     "output_type": "execute_result"
    }
   ],
   "source": [
    "df2.shape"
   ]
  },
  {
   "cell_type": "code",
   "execution_count": 38,
   "metadata": {},
   "outputs": [
    {
     "data": {
      "text/plain": [
       "(16173222, 78)"
      ]
     },
     "execution_count": 38,
     "metadata": {},
     "output_type": "execute_result"
    }
   ],
   "source": [
    "X.shape"
   ]
  },
  {
   "cell_type": "code",
   "execution_count": 31,
   "metadata": {},
   "outputs": [],
   "source": [
    "from imblearn.over_sampling import SMOTE"
   ]
  },
  {
   "cell_type": "code",
   "execution_count": 1,
   "metadata": {},
   "outputs": [
    {
     "ename": "NameError",
     "evalue": "name 'df2' is not defined",
     "output_type": "error",
     "traceback": [
      "\u001b[0;31m---------------------------------------------------------------------------\u001b[0m",
      "\u001b[0;31mNameError\u001b[0m                                 Traceback (most recent call last)",
      "\u001b[0;32m<ipython-input-1-4790437ebfac>\u001b[0m in \u001b[0;36m<module>\u001b[0;34m\u001b[0m\n\u001b[0;32m----> 1\u001b[0;31m \u001b[0mdf2\u001b[0m\u001b[0;34m.\u001b[0m\u001b[0mshape\u001b[0m\u001b[0;34m\u001b[0m\u001b[0;34m\u001b[0m\u001b[0m\n\u001b[0m",
      "\u001b[0;31mNameError\u001b[0m: name 'df2' is not defined"
     ]
    }
   ],
   "source": [
    "df2.shape"
   ]
  },
  {
   "cell_type": "code",
   "execution_count": null,
   "metadata": {},
   "outputs": [],
   "source": [
    "def clean_dataset(df):\n",
    "    assert isinstance(df, pd.DataFrame), \"df needs to be a pd.DataFrame\"\n",
    "    df.dropna(inplace=True)\n",
    "    indices_to_keep = ~df.isin([np.nan, np.inf, -np.inf]).any(1)\n",
    "    return df[indices_to_keep]"
   ]
  },
  {
   "cell_type": "code",
   "execution_count": 18,
   "metadata": {},
   "outputs": [],
   "source": [
    "import numpy as np"
   ]
  },
  {
   "cell_type": "code",
   "execution_count": 17,
   "metadata": {},
   "outputs": [
    {
     "ename": "NameError",
     "evalue": "name 'np' is not defined",
     "output_type": "error",
     "traceback": [
      "\u001b[0;31m---------------------------------------------------------------------------\u001b[0m",
      "\u001b[0;31mNameError\u001b[0m                                 Traceback (most recent call last)",
      "\u001b[0;32m<ipython-input-17-f72566787bd9>\u001b[0m in \u001b[0;36m<module>\u001b[0;34m\u001b[0m\n\u001b[1;32m      1\u001b[0m \u001b[0mdf2\u001b[0m \u001b[0;34m=\u001b[0m \u001b[0mdf2\u001b[0m\u001b[0;34m.\u001b[0m\u001b[0mdrop\u001b[0m\u001b[0;34m(\u001b[0m\u001b[0mcolumns\u001b[0m\u001b[0;34m=\u001b[0m\u001b[0;34m[\u001b[0m\u001b[0;34m'Timestamp'\u001b[0m\u001b[0;34m]\u001b[0m\u001b[0;34m)\u001b[0m\u001b[0;34m\u001b[0m\u001b[0;34m\u001b[0m\u001b[0m\n\u001b[0;32m----> 2\u001b[0;31m \u001b[0mdf2\u001b[0m \u001b[0;34m=\u001b[0m \u001b[0mclean_dataset\u001b[0m\u001b[0;34m(\u001b[0m\u001b[0mdf2\u001b[0m\u001b[0;34m)\u001b[0m\u001b[0;34m\u001b[0m\u001b[0;34m\u001b[0m\u001b[0m\n\u001b[0m",
      "\u001b[0;32m<ipython-input-16-19e362bcb334>\u001b[0m in \u001b[0;36mclean_dataset\u001b[0;34m(df)\u001b[0m\n\u001b[1;32m      2\u001b[0m     \u001b[0;32massert\u001b[0m \u001b[0misinstance\u001b[0m\u001b[0;34m(\u001b[0m\u001b[0mdf\u001b[0m\u001b[0;34m,\u001b[0m \u001b[0mpd\u001b[0m\u001b[0;34m.\u001b[0m\u001b[0mDataFrame\u001b[0m\u001b[0;34m)\u001b[0m\u001b[0;34m,\u001b[0m \u001b[0;34m\"df needs to be a pd.DataFrame\"\u001b[0m\u001b[0;34m\u001b[0m\u001b[0;34m\u001b[0m\u001b[0m\n\u001b[1;32m      3\u001b[0m     \u001b[0mdf\u001b[0m\u001b[0;34m.\u001b[0m\u001b[0mdropna\u001b[0m\u001b[0;34m(\u001b[0m\u001b[0minplace\u001b[0m\u001b[0;34m=\u001b[0m\u001b[0;32mTrue\u001b[0m\u001b[0;34m)\u001b[0m\u001b[0;34m\u001b[0m\u001b[0;34m\u001b[0m\u001b[0m\n\u001b[0;32m----> 4\u001b[0;31m     \u001b[0mindices_to_keep\u001b[0m \u001b[0;34m=\u001b[0m \u001b[0;34m~\u001b[0m\u001b[0mdf\u001b[0m\u001b[0;34m.\u001b[0m\u001b[0misin\u001b[0m\u001b[0;34m(\u001b[0m\u001b[0;34m[\u001b[0m\u001b[0mnp\u001b[0m\u001b[0;34m.\u001b[0m\u001b[0mnan\u001b[0m\u001b[0;34m,\u001b[0m \u001b[0mnp\u001b[0m\u001b[0;34m.\u001b[0m\u001b[0minf\u001b[0m\u001b[0;34m,\u001b[0m \u001b[0;34m-\u001b[0m\u001b[0mnp\u001b[0m\u001b[0;34m.\u001b[0m\u001b[0minf\u001b[0m\u001b[0;34m]\u001b[0m\u001b[0;34m)\u001b[0m\u001b[0;34m.\u001b[0m\u001b[0many\u001b[0m\u001b[0;34m(\u001b[0m\u001b[0;36m1\u001b[0m\u001b[0;34m)\u001b[0m\u001b[0;34m\u001b[0m\u001b[0;34m\u001b[0m\u001b[0m\n\u001b[0m\u001b[1;32m      5\u001b[0m     \u001b[0;32mreturn\u001b[0m \u001b[0mdf\u001b[0m\u001b[0;34m[\u001b[0m\u001b[0mindices_to_keep\u001b[0m\u001b[0;34m]\u001b[0m\u001b[0;34m.\u001b[0m\u001b[0mastype\u001b[0m\u001b[0;34m(\u001b[0m\u001b[0mnp\u001b[0m\u001b[0;34m.\u001b[0m\u001b[0mfloat64\u001b[0m\u001b[0;34m)\u001b[0m\u001b[0;34m\u001b[0m\u001b[0;34m\u001b[0m\u001b[0m\n",
      "\u001b[0;31mNameError\u001b[0m: name 'np' is not defined"
     ]
    }
   ],
   "source": [
    "df2 = df2.drop(columns=['Timestamp'])\n"
   ]
  },
  {
   "cell_type": "code",
   "execution_count": null,
   "metadata": {},
   "outputs": [],
   "source": [
    "df2 = clean_dataset(df2)"
   ]
  },
  {
   "cell_type": "code",
   "execution_count": 33,
   "metadata": {},
   "outputs": [],
   "source": [
    "df2 = df2.drop(columns=['Timestamp'])\n",
    "df2 = df2.dropna()"
   ]
  },
  {
   "cell_type": "code",
   "execution_count": 44,
   "metadata": {},
   "outputs": [
    {
     "name": "stderr",
     "output_type": "stream",
     "text": [
      "/Users/tanaysinghania/miniconda3/envs/py36/lib/python3.6/site-packages/imblearn/utils/_validation.py:638: FutureWarning: Pass sampling_strategy=minority as keyword args. From version 0.9 passing these as positional arguments will result in an error\n",
      "  FutureWarning)\n"
     ]
    },
    {
     "ename": "ValueError",
     "evalue": "Input contains NaN, infinity or a value too large for dtype('float64').",
     "output_type": "error",
     "traceback": [
      "\u001b[0;31m---------------------------------------------------------------------------\u001b[0m",
      "\u001b[0;31mValueError\u001b[0m                                Traceback (most recent call last)",
      "\u001b[0;32m<ipython-input-44-34ab540961ae>\u001b[0m in \u001b[0;36m<module>\u001b[0;34m\u001b[0m\n\u001b[1;32m      1\u001b[0m \u001b[0msm\u001b[0m \u001b[0;34m=\u001b[0m \u001b[0mSMOTE\u001b[0m\u001b[0;34m(\u001b[0m\u001b[0;34m'minority'\u001b[0m\u001b[0;34m)\u001b[0m\u001b[0;34m\u001b[0m\u001b[0;34m\u001b[0m\u001b[0m\n\u001b[0;32m----> 2\u001b[0;31m \u001b[0mX_rs\u001b[0m\u001b[0;34m,\u001b[0m \u001b[0mY_rs\u001b[0m \u001b[0;34m=\u001b[0m \u001b[0msm\u001b[0m\u001b[0;34m.\u001b[0m\u001b[0mfit_sample\u001b[0m\u001b[0;34m(\u001b[0m\u001b[0mX\u001b[0m\u001b[0;34m,\u001b[0m \u001b[0mY\u001b[0m\u001b[0;34m)\u001b[0m\u001b[0;34m\u001b[0m\u001b[0;34m\u001b[0m\u001b[0m\n\u001b[0m",
      "\u001b[0;32m~/miniconda3/envs/py36/lib/python3.6/site-packages/imblearn/base.py\u001b[0m in \u001b[0;36mfit_resample\u001b[0;34m(self, X, y)\u001b[0m\n\u001b[1;32m     75\u001b[0m         \u001b[0mcheck_classification_targets\u001b[0m\u001b[0;34m(\u001b[0m\u001b[0my\u001b[0m\u001b[0;34m)\u001b[0m\u001b[0;34m\u001b[0m\u001b[0;34m\u001b[0m\u001b[0m\n\u001b[1;32m     76\u001b[0m         \u001b[0marrays_transformer\u001b[0m \u001b[0;34m=\u001b[0m \u001b[0mArraysTransformer\u001b[0m\u001b[0;34m(\u001b[0m\u001b[0mX\u001b[0m\u001b[0;34m,\u001b[0m \u001b[0my\u001b[0m\u001b[0;34m)\u001b[0m\u001b[0;34m\u001b[0m\u001b[0;34m\u001b[0m\u001b[0m\n\u001b[0;32m---> 77\u001b[0;31m         \u001b[0mX\u001b[0m\u001b[0;34m,\u001b[0m \u001b[0my\u001b[0m\u001b[0;34m,\u001b[0m \u001b[0mbinarize_y\u001b[0m \u001b[0;34m=\u001b[0m \u001b[0mself\u001b[0m\u001b[0;34m.\u001b[0m\u001b[0m_check_X_y\u001b[0m\u001b[0;34m(\u001b[0m\u001b[0mX\u001b[0m\u001b[0;34m,\u001b[0m \u001b[0my\u001b[0m\u001b[0;34m)\u001b[0m\u001b[0;34m\u001b[0m\u001b[0;34m\u001b[0m\u001b[0m\n\u001b[0m\u001b[1;32m     78\u001b[0m \u001b[0;34m\u001b[0m\u001b[0m\n\u001b[1;32m     79\u001b[0m         self.sampling_strategy_ = check_sampling_strategy(\n",
      "\u001b[0;32m~/miniconda3/envs/py36/lib/python3.6/site-packages/imblearn/base.py\u001b[0m in \u001b[0;36m_check_X_y\u001b[0;34m(self, X, y, accept_sparse)\u001b[0m\n\u001b[1;32m    133\u001b[0m         \u001b[0my\u001b[0m\u001b[0;34m,\u001b[0m \u001b[0mbinarize_y\u001b[0m \u001b[0;34m=\u001b[0m \u001b[0mcheck_target_type\u001b[0m\u001b[0;34m(\u001b[0m\u001b[0my\u001b[0m\u001b[0;34m,\u001b[0m \u001b[0mindicate_one_vs_all\u001b[0m\u001b[0;34m=\u001b[0m\u001b[0;32mTrue\u001b[0m\u001b[0;34m)\u001b[0m\u001b[0;34m\u001b[0m\u001b[0;34m\u001b[0m\u001b[0m\n\u001b[1;32m    134\u001b[0m         X, y = self._validate_data(\n\u001b[0;32m--> 135\u001b[0;31m             \u001b[0mX\u001b[0m\u001b[0;34m,\u001b[0m \u001b[0my\u001b[0m\u001b[0;34m,\u001b[0m \u001b[0mreset\u001b[0m\u001b[0;34m=\u001b[0m\u001b[0;32mTrue\u001b[0m\u001b[0;34m,\u001b[0m \u001b[0maccept_sparse\u001b[0m\u001b[0;34m=\u001b[0m\u001b[0maccept_sparse\u001b[0m\u001b[0;34m\u001b[0m\u001b[0;34m\u001b[0m\u001b[0m\n\u001b[0m\u001b[1;32m    136\u001b[0m         )\n\u001b[1;32m    137\u001b[0m         \u001b[0;32mreturn\u001b[0m \u001b[0mX\u001b[0m\u001b[0;34m,\u001b[0m \u001b[0my\u001b[0m\u001b[0;34m,\u001b[0m \u001b[0mbinarize_y\u001b[0m\u001b[0;34m\u001b[0m\u001b[0;34m\u001b[0m\u001b[0m\n",
      "\u001b[0;32m~/miniconda3/envs/py36/lib/python3.6/site-packages/sklearn/base.py\u001b[0m in \u001b[0;36m_validate_data\u001b[0;34m(self, X, y, reset, validate_separately, **check_params)\u001b[0m\n\u001b[1;32m    430\u001b[0m                 \u001b[0my\u001b[0m \u001b[0;34m=\u001b[0m \u001b[0mcheck_array\u001b[0m\u001b[0;34m(\u001b[0m\u001b[0my\u001b[0m\u001b[0;34m,\u001b[0m \u001b[0;34m**\u001b[0m\u001b[0mcheck_y_params\u001b[0m\u001b[0;34m)\u001b[0m\u001b[0;34m\u001b[0m\u001b[0;34m\u001b[0m\u001b[0m\n\u001b[1;32m    431\u001b[0m             \u001b[0;32melse\u001b[0m\u001b[0;34m:\u001b[0m\u001b[0;34m\u001b[0m\u001b[0;34m\u001b[0m\u001b[0m\n\u001b[0;32m--> 432\u001b[0;31m                 \u001b[0mX\u001b[0m\u001b[0;34m,\u001b[0m \u001b[0my\u001b[0m \u001b[0;34m=\u001b[0m \u001b[0mcheck_X_y\u001b[0m\u001b[0;34m(\u001b[0m\u001b[0mX\u001b[0m\u001b[0;34m,\u001b[0m \u001b[0my\u001b[0m\u001b[0;34m,\u001b[0m \u001b[0;34m**\u001b[0m\u001b[0mcheck_params\u001b[0m\u001b[0;34m)\u001b[0m\u001b[0;34m\u001b[0m\u001b[0;34m\u001b[0m\u001b[0m\n\u001b[0m\u001b[1;32m    433\u001b[0m             \u001b[0mout\u001b[0m \u001b[0;34m=\u001b[0m \u001b[0mX\u001b[0m\u001b[0;34m,\u001b[0m \u001b[0my\u001b[0m\u001b[0;34m\u001b[0m\u001b[0;34m\u001b[0m\u001b[0m\n\u001b[1;32m    434\u001b[0m \u001b[0;34m\u001b[0m\u001b[0m\n",
      "\u001b[0;32m~/miniconda3/envs/py36/lib/python3.6/site-packages/sklearn/utils/validation.py\u001b[0m in \u001b[0;36minner_f\u001b[0;34m(*args, **kwargs)\u001b[0m\n\u001b[1;32m     70\u001b[0m                           FutureWarning)\n\u001b[1;32m     71\u001b[0m         \u001b[0mkwargs\u001b[0m\u001b[0;34m.\u001b[0m\u001b[0mupdate\u001b[0m\u001b[0;34m(\u001b[0m\u001b[0;34m{\u001b[0m\u001b[0mk\u001b[0m\u001b[0;34m:\u001b[0m \u001b[0marg\u001b[0m \u001b[0;32mfor\u001b[0m \u001b[0mk\u001b[0m\u001b[0;34m,\u001b[0m \u001b[0marg\u001b[0m \u001b[0;32min\u001b[0m \u001b[0mzip\u001b[0m\u001b[0;34m(\u001b[0m\u001b[0msig\u001b[0m\u001b[0;34m.\u001b[0m\u001b[0mparameters\u001b[0m\u001b[0;34m,\u001b[0m \u001b[0margs\u001b[0m\u001b[0;34m)\u001b[0m\u001b[0;34m}\u001b[0m\u001b[0;34m)\u001b[0m\u001b[0;34m\u001b[0m\u001b[0;34m\u001b[0m\u001b[0m\n\u001b[0;32m---> 72\u001b[0;31m         \u001b[0;32mreturn\u001b[0m \u001b[0mf\u001b[0m\u001b[0;34m(\u001b[0m\u001b[0;34m**\u001b[0m\u001b[0mkwargs\u001b[0m\u001b[0;34m)\u001b[0m\u001b[0;34m\u001b[0m\u001b[0;34m\u001b[0m\u001b[0m\n\u001b[0m\u001b[1;32m     73\u001b[0m     \u001b[0;32mreturn\u001b[0m \u001b[0minner_f\u001b[0m\u001b[0;34m\u001b[0m\u001b[0;34m\u001b[0m\u001b[0m\n\u001b[1;32m     74\u001b[0m \u001b[0;34m\u001b[0m\u001b[0m\n",
      "\u001b[0;32m~/miniconda3/envs/py36/lib/python3.6/site-packages/sklearn/utils/validation.py\u001b[0m in \u001b[0;36mcheck_X_y\u001b[0;34m(X, y, accept_sparse, accept_large_sparse, dtype, order, copy, force_all_finite, ensure_2d, allow_nd, multi_output, ensure_min_samples, ensure_min_features, y_numeric, estimator)\u001b[0m\n\u001b[1;32m    800\u001b[0m                     \u001b[0mensure_min_samples\u001b[0m\u001b[0;34m=\u001b[0m\u001b[0mensure_min_samples\u001b[0m\u001b[0;34m,\u001b[0m\u001b[0;34m\u001b[0m\u001b[0;34m\u001b[0m\u001b[0m\n\u001b[1;32m    801\u001b[0m                     \u001b[0mensure_min_features\u001b[0m\u001b[0;34m=\u001b[0m\u001b[0mensure_min_features\u001b[0m\u001b[0;34m,\u001b[0m\u001b[0;34m\u001b[0m\u001b[0;34m\u001b[0m\u001b[0m\n\u001b[0;32m--> 802\u001b[0;31m                     estimator=estimator)\n\u001b[0m\u001b[1;32m    803\u001b[0m     \u001b[0;32mif\u001b[0m \u001b[0mmulti_output\u001b[0m\u001b[0;34m:\u001b[0m\u001b[0;34m\u001b[0m\u001b[0;34m\u001b[0m\u001b[0m\n\u001b[1;32m    804\u001b[0m         y = check_array(y, accept_sparse='csr', force_all_finite=True,\n",
      "\u001b[0;32m~/miniconda3/envs/py36/lib/python3.6/site-packages/sklearn/utils/validation.py\u001b[0m in \u001b[0;36minner_f\u001b[0;34m(*args, **kwargs)\u001b[0m\n\u001b[1;32m     70\u001b[0m                           FutureWarning)\n\u001b[1;32m     71\u001b[0m         \u001b[0mkwargs\u001b[0m\u001b[0;34m.\u001b[0m\u001b[0mupdate\u001b[0m\u001b[0;34m(\u001b[0m\u001b[0;34m{\u001b[0m\u001b[0mk\u001b[0m\u001b[0;34m:\u001b[0m \u001b[0marg\u001b[0m \u001b[0;32mfor\u001b[0m \u001b[0mk\u001b[0m\u001b[0;34m,\u001b[0m \u001b[0marg\u001b[0m \u001b[0;32min\u001b[0m \u001b[0mzip\u001b[0m\u001b[0;34m(\u001b[0m\u001b[0msig\u001b[0m\u001b[0;34m.\u001b[0m\u001b[0mparameters\u001b[0m\u001b[0;34m,\u001b[0m \u001b[0margs\u001b[0m\u001b[0;34m)\u001b[0m\u001b[0;34m}\u001b[0m\u001b[0;34m)\u001b[0m\u001b[0;34m\u001b[0m\u001b[0;34m\u001b[0m\u001b[0m\n\u001b[0;32m---> 72\u001b[0;31m         \u001b[0;32mreturn\u001b[0m \u001b[0mf\u001b[0m\u001b[0;34m(\u001b[0m\u001b[0;34m**\u001b[0m\u001b[0mkwargs\u001b[0m\u001b[0;34m)\u001b[0m\u001b[0;34m\u001b[0m\u001b[0;34m\u001b[0m\u001b[0m\n\u001b[0m\u001b[1;32m     73\u001b[0m     \u001b[0;32mreturn\u001b[0m \u001b[0minner_f\u001b[0m\u001b[0;34m\u001b[0m\u001b[0;34m\u001b[0m\u001b[0m\n\u001b[1;32m     74\u001b[0m \u001b[0;34m\u001b[0m\u001b[0m\n",
      "\u001b[0;32m~/miniconda3/envs/py36/lib/python3.6/site-packages/sklearn/utils/validation.py\u001b[0m in \u001b[0;36mcheck_array\u001b[0;34m(array, accept_sparse, accept_large_sparse, dtype, order, copy, force_all_finite, ensure_2d, allow_nd, ensure_min_samples, ensure_min_features, estimator)\u001b[0m\n\u001b[1;32m    643\u001b[0m         \u001b[0;32mif\u001b[0m \u001b[0mforce_all_finite\u001b[0m\u001b[0;34m:\u001b[0m\u001b[0;34m\u001b[0m\u001b[0;34m\u001b[0m\u001b[0m\n\u001b[1;32m    644\u001b[0m             _assert_all_finite(array,\n\u001b[0;32m--> 645\u001b[0;31m                                allow_nan=force_all_finite == 'allow-nan')\n\u001b[0m\u001b[1;32m    646\u001b[0m \u001b[0;34m\u001b[0m\u001b[0m\n\u001b[1;32m    647\u001b[0m     \u001b[0;32mif\u001b[0m \u001b[0mensure_min_samples\u001b[0m \u001b[0;34m>\u001b[0m \u001b[0;36m0\u001b[0m\u001b[0;34m:\u001b[0m\u001b[0;34m\u001b[0m\u001b[0;34m\u001b[0m\u001b[0m\n",
      "\u001b[0;32m~/miniconda3/envs/py36/lib/python3.6/site-packages/sklearn/utils/validation.py\u001b[0m in \u001b[0;36m_assert_all_finite\u001b[0;34m(X, allow_nan, msg_dtype)\u001b[0m\n\u001b[1;32m     97\u001b[0m                     \u001b[0mmsg_err\u001b[0m\u001b[0;34m.\u001b[0m\u001b[0mformat\u001b[0m\u001b[0;34m\u001b[0m\u001b[0;34m\u001b[0m\u001b[0m\n\u001b[1;32m     98\u001b[0m                     (type_err,\n\u001b[0;32m---> 99\u001b[0;31m                      msg_dtype if msg_dtype is not None else X.dtype)\n\u001b[0m\u001b[1;32m    100\u001b[0m             )\n\u001b[1;32m    101\u001b[0m     \u001b[0;31m# for object dtype data, we only check for NaNs (GH-13254)\u001b[0m\u001b[0;34m\u001b[0m\u001b[0;34m\u001b[0m\u001b[0;34m\u001b[0m\u001b[0m\n",
      "\u001b[0;31mValueError\u001b[0m: Input contains NaN, infinity or a value too large for dtype('float64')."
     ]
    }
   ],
   "source": [
    "sm = SMOTE('minority')\n",
    "X_rs, Y_rs = sm.fit_sample(X, Y)\n"
   ]
  },
  {
   "cell_type": "code",
   "execution_count": 38,
   "metadata": {},
   "outputs": [
    {
     "name": "stdout",
     "output_type": "stream",
     "text": [
      "(7477003, 35)\n",
      "(7477003,)\n"
     ]
    }
   ],
   "source": [
    "print(X_rs.shape)\n",
    "print(Y_rs.shape)"
   ]
  },
  {
   "cell_type": "code",
   "execution_count": 39,
   "metadata": {},
   "outputs": [
    {
     "data": {
      "text/plain": [
       "Benign                      2485853\n",
       "SQL Injection               2485853\n",
       "DDOS attack-HOIC             686012\n",
       "DDoS attacks-LOIC-HTTP       563740\n",
       "DoS attacks-Hulk             458608\n",
       "Bot                          230290\n",
       "FTP-BruteForce               190304\n",
       "SSH-Bruteforce               184424\n",
       "DoS attacks-SlowHTTPTest     136336\n",
       "DoS attacks-GoldenEye         39282\n",
       "DoS attacks-Slowloris          9831\n",
       "Infilteration                  4227\n",
       "DDOS attack-LOIC-UDP           1730\n",
       "Brute Force -Web                362\n",
       "Brute Force -XSS                151\n",
       "Name: Label, dtype: int64"
      ]
     },
     "execution_count": 39,
     "metadata": {},
     "output_type": "execute_result"
    }
   ],
   "source": [
    "Y_rs.value_counts()"
   ]
  },
  {
   "cell_type": "code",
   "execution_count": 40,
   "metadata": {},
   "outputs": [
    {
     "data": {
      "text/plain": [
       "Benign                      2485853\n",
       "DDOS attack-HOIC             686012\n",
       "DDoS attacks-LOIC-HTTP       563740\n",
       "DoS attacks-Hulk             458608\n",
       "Bot                          230290\n",
       "FTP-BruteForce               190304\n",
       "SSH-Bruteforce               184424\n",
       "DoS attacks-SlowHTTPTest     136336\n",
       "DoS attacks-GoldenEye         39282\n",
       "DoS attacks-Slowloris          9831\n",
       "Infilteration                  4227\n",
       "DDOS attack-LOIC-UDP           1730\n",
       "Brute Force -Web                362\n",
       "Brute Force -XSS                151\n",
       "SQL Injection                    51\n",
       "Name: Label, dtype: int64"
      ]
     },
     "execution_count": 40,
     "metadata": {},
     "output_type": "execute_result"
    }
   ],
   "source": [
    "Y.value_counts()"
   ]
  },
  {
   "cell_type": "code",
   "execution_count": 41,
   "metadata": {},
   "outputs": [
    {
     "name": "stderr",
     "output_type": "stream",
     "text": [
      "/Library/Frameworks/Python.framework/Versions/3.7/lib/python3.7/site-packages/ipykernel_launcher.py:2: FutureWarning: The signature of `Series.to_csv` was aligned to that of `DataFrame.to_csv`, and argument 'header' will change its default value from False to True: please pass an explicit value to suppress this warning.\n",
      "  \n"
     ]
    }
   ],
   "source": [
    "X_rs.to_csv('X_resampled.csv', index=False, encoding='utf-8-sig')\n",
    "Y_rs.to_csv( \"Y_resampled.csv\", index=False, encoding='utf-8-sig')"
   ]
  },
  {
   "cell_type": "code",
   "execution_count": 7,
   "metadata": {},
   "outputs": [],
   "source": [
    "string_col = 'Dst Port, Flow Duration, Tot Fwd Pkts, TotLen Fwd Pkts, Fwd Pkt Len Max, Fwd Pkt Len Min, Fwd Pkt Len Mean, Fwd Pkt Len Std, Bwd Pkt Len Max, Flow Byts/s, Flow Pkts/s, Flow IAT Mean, Flow IAT Std, Flow IAT Max, Flow IAT Min, Fwd IAT Mean, Fwd IAT Std, Fwd IAT Min, Bwd IAT Tot, Bwd IAT Mean, Bwd IAT Std, Bwd IAT Max, Fwd Header Len, Bwd Header Len, Bwd Pkts/s, Pkt Len Min, Pkt Len Mean, Pkt Len Var, PSH Flag Cnt, ACK Flag Cnt, Down/Up Ratio, Init Fwd Win Byts, Init Bwd Win Byts, Fwd Act Data Pkt, Fwd Seg Size Min, Active Min'"
   ]
  },
  {
   "cell_type": "code",
   "execution_count": 8,
   "metadata": {},
   "outputs": [],
   "source": [
    "list_of_col = string_col.split(', ')"
   ]
  },
  {
   "cell_type": "code",
   "execution_count": 9,
   "metadata": {},
   "outputs": [
    {
     "data": {
      "text/plain": [
       "['Dst Port',\n",
       " 'Flow Duration',\n",
       " 'Tot Fwd Pkts',\n",
       " 'TotLen Fwd Pkts',\n",
       " 'Fwd Pkt Len Max',\n",
       " 'Fwd Pkt Len Min',\n",
       " 'Fwd Pkt Len Mean',\n",
       " 'Fwd Pkt Len Std',\n",
       " 'Bwd Pkt Len Max',\n",
       " 'Flow Byts/s',\n",
       " 'Flow Pkts/s',\n",
       " 'Flow IAT Mean',\n",
       " 'Flow IAT Std',\n",
       " 'Flow IAT Max',\n",
       " 'Flow IAT Min',\n",
       " 'Fwd IAT Mean',\n",
       " 'Fwd IAT Std',\n",
       " 'Fwd IAT Min',\n",
       " 'Bwd IAT Tot',\n",
       " 'Bwd IAT Mean',\n",
       " 'Bwd IAT Std',\n",
       " 'Bwd IAT Max',\n",
       " 'Fwd Header Len',\n",
       " 'Bwd Header Len',\n",
       " 'Bwd Pkts/s',\n",
       " 'Pkt Len Min',\n",
       " 'Pkt Len Mean',\n",
       " 'Pkt Len Var',\n",
       " 'PSH Flag Cnt',\n",
       " 'ACK Flag Cnt',\n",
       " 'Down/Up Ratio',\n",
       " 'Init Fwd Win Byts',\n",
       " 'Init Bwd Win Byts',\n",
       " 'Fwd Act Data Pkt',\n",
       " 'Fwd Seg Size Min',\n",
       " 'Active Min']"
      ]
     },
     "execution_count": 9,
     "metadata": {},
     "output_type": "execute_result"
    }
   ],
   "source": [
    "list_of_col"
   ]
  },
  {
   "cell_type": "code",
   "execution_count": 10,
   "metadata": {},
   "outputs": [
    {
     "data": {
      "text/plain": [
       "36"
      ]
     },
     "execution_count": 10,
     "metadata": {},
     "output_type": "execute_result"
    }
   ],
   "source": [
    "len(list_of_col)"
   ]
  },
  {
   "cell_type": "code",
   "execution_count": 11,
   "metadata": {},
   "outputs": [
    {
     "name": "stderr",
     "output_type": "stream",
     "text": [
      "/Library/Frameworks/Python.framework/Versions/3.7/lib/python3.7/site-packages/pandas/core/indexing.py:1404: FutureWarning: \n",
      "Passing list-likes to .loc or [] with any missing label will raise\n",
      "KeyError in the future, you can use .reindex() as an alternative.\n",
      "\n",
      "See the documentation here:\n",
      "https://pandas.pydata.org/pandas-docs/stable/user_guide/indexing.html#deprecate-loc-reindex-listlike\n",
      "  return self._getitem_tuple(key)\n"
     ]
    }
   ],
   "source": [
    "c_df = c_df.loc[:,list_of_col]"
   ]
  },
  {
   "cell_type": "code",
   "execution_count": 20,
   "metadata": {},
   "outputs": [
    {
     "name": "stdout",
     "output_type": "stream",
     "text": [
      "(16173281, 36)\n",
      ".\n"
     ]
    }
   ],
   "source": [
    "print(c_df.shape)\n",
    "print('.')"
   ]
  },
  {
   "cell_type": "code",
   "execution_count": 13,
   "metadata": {},
   "outputs": [],
   "source": [
    "c_df.to_csv( \"combined_csv36.csv\", index=False, encoding='utf-8-sig')"
   ]
  },
  {
   "cell_type": "code",
   "execution_count": 14,
   "metadata": {},
   "outputs": [
    {
     "name": "stdout",
     "output_type": "stream",
     "text": [
      "-------------------Dst Port-------------------\n",
      "53       3990417\n",
      "80       3459552\n",
      "443      1958609\n",
      "3389     1813245\n",
      "445       697343\n",
      "          ...   \n",
      "58271          1\n",
      "41074          1\n",
      "28744          1\n",
      "42551          1\n",
      "20835          1\n",
      "Name: Dst Port, Length: 80463, dtype: int64\n",
      "-------------------Flow Duration-------------------\n",
      "1            199157\n",
      "2            165222\n",
      "3             70362\n",
      "6             48680\n",
      "7             40673\n",
      "              ...  \n",
      "13118073          1\n",
      "4195499           1\n",
      "54372074          1\n",
      "88615535          1\n",
      "112634085         1\n",
      "Name: Flow Duration, Length: 5140790, dtype: int64\n",
      "-------------------Tot Fwd Pkts-------------------\n",
      "1         4368231\n",
      "2         4174602\n",
      "3         2168516\n",
      "5         1048601\n",
      "8          847072\n",
      "           ...   \n",
      "108192          1\n",
      "108199          1\n",
      "108235          1\n",
      "108465          1\n",
      "10080           1\n",
      "Name: Tot Fwd Pkts, Length: 5716, dtype: int64\n",
      "-------------------TotLen Fwd Pkts-------------------\n",
      "0          4859753\n",
      "935         797894\n",
      "1148        621610\n",
      "31          398120\n",
      "77          314095\n",
      "            ...   \n",
      "6526.0           1\n",
      "21388.0          1\n",
      "21394            1\n",
      "6523.0           1\n",
      "1770             1\n",
      "Name: TotLen Fwd Pkts, Length: 23644, dtype: int64\n",
      "-------------------Fwd Pkt Len Max-------------------\n",
      "0        4859753\n",
      "677       927920\n",
      "935       797637\n",
      "46        454856\n",
      "31        442820\n",
      "          ...   \n",
      "45824          1\n",
      "44392          1\n",
      "1180           1\n",
      "1003           1\n",
      "1164           1\n",
      "Name: Fwd Pkt Len Max, Length: 2828, dtype: int64\n",
      "-------------------Fwd Pkt Len Min-------------------\n",
      "0.0      11712803\n",
      "40.0       348852\n",
      "42.0       297556\n",
      "36.0       229436\n",
      "35.0       229231\n",
      "           ...   \n",
      "498.0           1\n",
      "503.0           1\n",
      "511.0           1\n",
      "513.0           1\n",
      "502.0           1\n",
      "Name: Fwd Pkt Len Min, Length: 611, dtype: int64\n",
      "-------------------Fwd Pkt Len Mean-------------------\n",
      "0.0                    4859753\n",
      "187.0                   778836\n",
      "40.0                    349300\n",
      "42.0                    298001\n",
      "6.666666667             289314\n",
      "                        ...   \n",
      "17.334448160535118           1\n",
      "19.604651162790702           1\n",
      "224.25                       1\n",
      "443.3076923077               1\n",
      "0.28124999999999994          1\n",
      "Name: Fwd Pkt Len Mean, Length: 176020, dtype: int64\n",
      "-------------------Fwd Pkt Len Std-------------------\n",
      "0.000000      8979693\n",
      "418.144712     778546\n",
      "11.547005      289318\n",
      "48.500000      198993\n",
      "228.129662     195598\n",
      "               ...   \n",
      "388.157880          1\n",
      "104.943425          1\n",
      "389.701595          1\n",
      "206.488364          1\n",
      "98.493340           1\n",
      "Name: Fwd Pkt Len Std, Length: 385305, dtype: int64\n",
      "-------------------Bwd Pkt Len Max-------------------\n",
      "0       5806589\n",
      "1173    1317168\n",
      "1460     868584\n",
      "964      289323\n",
      "488      280238\n",
      "         ...   \n",
      "1247          1\n",
      "1060          1\n",
      "686           1\n",
      "862           1\n",
      "176           1\n",
      "Name: Bwd Pkt Len Max, Length: 2320, dtype: int64\n",
      "-------------------Flow Byts/s-------------------\n",
      "0.0                  2206841\n",
      "0.0                  1605205\n",
      "0                    1154486\n",
      "Infinity               36039\n",
      "3.1E7                  16472\n",
      "                      ...   \n",
      "1767.196961763171          1\n",
      "648.1284431027078          1\n",
      "1019.7965581327            1\n",
      "697.4866009152981          1\n",
      "5025.922366196392          1\n",
      "Name: Flow Byts/s, Length: 7356265, dtype: int64\n",
      "-------------------Flow Pkts/s-------------------\n",
      "1000000.0               146971\n",
      "2000000.0                70581\n",
      "2000000.0                67775\n",
      "2000000                  50342\n",
      "666666.6667              46032\n",
      "                         ...  \n",
      "0.33634966538641636          1\n",
      "0.25858766845575143          1\n",
      "3.965566750635599            1\n",
      "0.022928332052690455         1\n",
      "0.4158735858                 1\n",
      "Name: Flow Pkts/s, Length: 6876876, dtype: int64\n",
      "-------------------Flow IAT Mean-------------------\n",
      "1.000000e+00    190190\n",
      "2.000000e+00    162272\n",
      "3.000000e+00     61376\n",
      "6.000000e+00     48661\n",
      "7.000000e+00     40846\n",
      "                 ...  \n",
      "5.464084e+05         1\n",
      "8.676288e+04         1\n",
      "2.897754e+05         1\n",
      "4.501814e+06         1\n",
      "5.994963e+05         1\n",
      "Name: Flow IAT Mean, Length: 6078973, dtype: int64\n",
      "-------------------Flow IAT Std-------------------\n",
      "0.0                   7611071\n",
      "0                      111715\n",
      "0.0                     46915\n",
      "0.7071067811865476      13236\n",
      "0.7071067812             7975\n",
      "                       ...   \n",
      "144582.3069                 1\n",
      "76317.81906138117           1\n",
      "144581.39630418518          1\n",
      "39355.10036091362           1\n",
      "4889656.02515483            1\n",
      "Name: Flow IAT Std, Length: 7405637, dtype: int64\n",
      "-------------------Flow IAT Max-------------------\n",
      "1             201946\n",
      "2             165235\n",
      "3              69462\n",
      "6              48609\n",
      "10000000       45558\n",
      "               ...  \n",
      "59108056.0         1\n",
      "86365810.0         1\n",
      "10014716           1\n",
      "54598182.0         1\n",
      "14429927.0         1\n",
      "Name: Flow IAT Max, Length: 3102178, dtype: int64\n",
      "-------------------Flow IAT Min-------------------\n",
      "1.0           1191476\n",
      "0.0            807231\n",
      "3.0            739546\n",
      "4.0            494140\n",
      "2.0            432947\n",
      "               ...   \n",
      "53586346.0          1\n",
      "87140775.0          1\n",
      "127194.0            1\n",
      "87140767.0          1\n",
      "756137.0            1\n",
      "Name: Flow IAT Min, Length: 787597, dtype: int64\n",
      "-------------------Fwd IAT Mean-------------------\n",
      "0.0                   4403141\n",
      "1.0                    124080\n",
      "0                       93366\n",
      "0.0                     34948\n",
      "85.0                    17317\n",
      "                       ...   \n",
      "88444015.0                  1\n",
      "16827.1666666667            1\n",
      "193066.4                    1\n",
      "328050.55555555556          1\n",
      "6087637.31578947            1\n",
      "Name: Fwd IAT Mean, Length: 5186562, dtype: int64\n",
      "-------------------Fwd IAT Std-------------------\n",
      "0.0                   8547880\n",
      "0                      130917\n",
      "0.0                     55338\n",
      "0.7071067811865476      11877\n",
      "0.7071067812             7290\n",
      "                       ...   \n",
      "4963846.051898384           1\n",
      "4221932.328                 1\n",
      "122815.98118445335          1\n",
      "84860.5919169787            1\n",
      "20487108.437101413          1\n",
      "Name: Fwd IAT Std, Length: 5485694, dtype: int64\n",
      "-------------------Fwd IAT Min-------------------\n",
      "0             4534592\n",
      "3              507647\n",
      "4              310525\n",
      "1              309613\n",
      "2              183808\n",
      "               ...   \n",
      "254644              1\n",
      "54776279.0          1\n",
      "87145176.0          1\n",
      "36813527            1\n",
      "4961089.0           1\n",
      "Name: Fwd IAT Min, Length: 965879, dtype: int64\n",
      "-------------------Bwd IAT Tot-------------------\n",
      "0            9074149\n",
      "0             201922\n",
      "1             147196\n",
      "117000000      13740\n",
      "111000000      12153\n",
      "              ...   \n",
      "3892292.0          1\n",
      "3892291.0          1\n",
      "3892290            1\n",
      "3892289            1\n",
      "2607877            1\n",
      "Name: Bwd IAT Tot, Length: 3568407, dtype: int64\n",
      "-------------------Bwd IAT Mean-------------------\n",
      "0.0                   9074149\n",
      "1.0                    147089\n",
      "0                      145774\n",
      "0.0                     58060\n",
      "25.0                     8225\n",
      "                       ...   \n",
      "517365.3333                 1\n",
      "2393784.206896552           1\n",
      "4702249.458333333           1\n",
      "4702247.8                   1\n",
      "194386.33333333328          1\n",
      "Name: Bwd IAT Mean, Length: 4322286, dtype: int64\n",
      "-------------------Bwd IAT Std-------------------\n",
      "0.0                   10201598\n",
      "0                       157905\n",
      "0.0                      65160\n",
      "37200000.0                1332\n",
      "20500000.0                 958\n",
      "                        ...   \n",
      "5033203.28551615             1\n",
      "5033204.541340573            1\n",
      "93814.78963184149            1\n",
      "3395781.4489999996           1\n",
      "3761594.981072435            1\n",
      "Name: Bwd IAT Std, Length: 5128635, dtype: int64\n",
      "-------------------Bwd IAT Max-------------------\n",
      "0            9074149\n",
      "0             201922\n",
      "1             147324\n",
      "10000000       33025\n",
      "10100000       17343\n",
      "              ...   \n",
      "6224350            1\n",
      "2030048.0          1\n",
      "2030049.0          1\n",
      "2030050.0          1\n",
      "1550765.0          1\n",
      "Name: Bwd IAT Max, Length: 2039165, dtype: int64\n",
      "-------------------Fwd Header Len-------------------\n",
      "8         3314452\n",
      "40        3256349\n",
      "72        1292197\n",
      "16         748655\n",
      "172        724188\n",
      "           ...   \n",
      "189612          1\n",
      "190132          1\n",
      "190992          1\n",
      "192012          1\n",
      "48204           1\n",
      "Name: Fwd Header Len, Length: 8847, dtype: int64\n",
      "-------------------Bwd Header Len-------------------\n"
     ]
    },
    {
     "name": "stdout",
     "output_type": "stream",
     "text": [
      "0        4031025\n",
      "8        3314580\n",
      "92       1369069\n",
      "20       1274409\n",
      "152      1111776\n",
      "          ...   \n",
      "66532          1\n",
      "66600          1\n",
      "66632          1\n",
      "66660          1\n",
      "35792          1\n",
      "Name: Bwd Header Len, Length: 8197, dtype: int64\n",
      "-------------------Bwd Pkts/s-------------------\n",
      "0.000000          4021694\n",
      "500000.000000      155382\n",
      "1000000.000000      68659\n",
      "333333.333300       47426\n",
      "166666.666667       42713\n",
      "                   ...   \n",
      "1.130693                1\n",
      "0.129216                1\n",
      "0.646793                1\n",
      "0.554342                1\n",
      "0.359852                1\n",
      "Name: Bwd Pkts/s, Length: 5414976, dtype: int64\n",
      "-------------------Pkt Len Min-------------------\n",
      "0      11738938\n",
      "40       348869\n",
      "42       297555\n",
      "36       229439\n",
      "35       229129\n",
      "         ...   \n",
      "266           1\n",
      "431           1\n",
      "455           1\n",
      "470           1\n",
      "240           1\n",
      "Name: Pkt Len Min, Length: 246, dtype: int64\n",
      "-------------------Pkt Len Mean-------------------\n",
      "0.000000      4854627\n",
      "123.000000     289719\n",
      "30.750000      284912\n",
      "81.125000      280206\n",
      "170.562500     153839\n",
      "               ...   \n",
      "152.152174          1\n",
      "852.012712          1\n",
      "208.593750          1\n",
      "304.517241          1\n",
      "128.728814          1\n",
      "Name: Pkt Len Mean, Length: 477096, dtype: int64\n",
      "-------------------Pkt Len Var-------------------\n",
      "0.000000         4971809\n",
      "85.333333         595033\n",
      "115523.428600     289328\n",
      "470.250000        284909\n",
      "30202.125000      280201\n",
      "                  ...   \n",
      "90292.307692           1\n",
      "321485.842782          1\n",
      "90294.588235           1\n",
      "122908.071225          1\n",
      "476486.684700          1\n",
      "Name: Pkt Len Var, Length: 684266, dtype: int64\n",
      "-------------------PSH Flag Cnt-------------------\n",
      "0               9638616\n",
      "1               6223369\n",
      "0                169940\n",
      "1                141297\n",
      "PSH Flag Cnt         59\n",
      "Name: PSH Flag Cnt, dtype: int64\n",
      "-------------------ACK Flag Cnt-------------------\n",
      "0               10606263\n",
      "1                5255722\n",
      "0                 236254\n",
      "1                  74983\n",
      "ACK Flag Cnt          59\n",
      "Name: ACK Flag Cnt, dtype: int64\n",
      "-------------------Down/Up Ratio-------------------\n",
      "0        8289472\n",
      "1        7448147\n",
      "1         180806\n",
      "0         127488\n",
      "2          89622\n",
      "          ...   \n",
      "171.0          1\n",
      "170.0          1\n",
      "167.0          1\n",
      "166.0          1\n",
      "134.0          1\n",
      "Name: Down/Up Ratio, Length: 264, dtype: int64\n",
      "-------------------Init Fwd Win Byts-------------------\n",
      " 8192     5039200\n",
      "-1        4338998\n",
      " 65535     542716\n",
      " 32738     522265\n",
      " 26883     477726\n",
      "           ...   \n",
      " 25117          1\n",
      " 25088          1\n",
      " 25080          1\n",
      " 25065          1\n",
      " 20425          1\n",
      "Name: Init Fwd Win Byts, Length: 17832, dtype: int64\n",
      "-------------------Init Bwd Win Byts-------------------\n",
      "-1        8055161\n",
      " 0        1047337\n",
      " 211       699128\n",
      " 62852     640468\n",
      " 149       361616\n",
      "           ...   \n",
      " 21667          1\n",
      " 21635          1\n",
      " 21597          1\n",
      " 21581          1\n",
      " 19923          1\n",
      "Name: Init Bwd Win Byts, Length: 17621, dtype: int64\n",
      "-------------------Fwd Act Data Pkt-------------------\n",
      "Series([], Name: Fwd Act Data Pkt, dtype: int64)\n",
      "-------------------Fwd Seg Size Min-------------------\n",
      "20                  9886150\n",
      "8                   4108366\n",
      "32                  1166821\n",
      "40                   373861\n",
      "0                    230632\n",
      "20                   159842\n",
      "8                     85929\n",
      "28                    46580\n",
      "24                    46232\n",
      "24                    38827\n",
      "32                    13113\n",
      "0                      7680\n",
      "40                     3559\n",
      "44                     2328\n",
      "28                     2085\n",
      "36                     1006\n",
      "36                      191\n",
      "Fwd Seg Size Min         59\n",
      "44                       11\n",
      "48                        8\n",
      "56                        1\n",
      "Name: Fwd Seg Size Min, dtype: int64\n",
      "-------------------Active Min-------------------\n",
      "0             14281996\n",
      "0               260620\n",
      "0.0               3249\n",
      "2                 1453\n",
      "11248              805\n",
      "                ...   \n",
      "307460               1\n",
      "10640151.0           1\n",
      "10640144.0           1\n",
      "4319084              1\n",
      "4532820              1\n",
      "Name: Active Min, Length: 447409, dtype: int64\n"
     ]
    }
   ],
   "source": [
    "for i in c_df.columns:\n",
    "    print('-------------------'+str(i)+'-------------------')\n",
    "    description = c_df.loc[:,i].value_counts()\n",
    "    print(description)\n",
    "    #print(description['count'])"
   ]
  },
  {
   "cell_type": "code",
   "execution_count": 15,
   "metadata": {},
   "outputs": [
    {
     "name": "stdout",
     "output_type": "stream",
     "text": [
      "(16173281, 1)\n"
     ]
    }
   ],
   "source": [
    "Y = pd.read_csv('./combined_csv.csv',usecols=['Label'])\n",
    "print(Y.shape)"
   ]
  },
  {
   "cell_type": "code",
   "execution_count": 16,
   "metadata": {},
   "outputs": [],
   "source": [
    "Y.to_csv( \"Y.csv\", index=False, encoding='utf-8-sig')"
   ]
  },
  {
   "cell_type": "code",
   "execution_count": 22,
   "metadata": {},
   "outputs": [
    {
     "name": "stdout",
     "output_type": "stream",
     "text": [
      "(16173281,)\n"
     ]
    }
   ],
   "source": [
    "y = Y.loc[:,'Label']\n",
    "print(y.shape)"
   ]
  },
  {
   "cell_type": "code",
   "execution_count": 24,
   "metadata": {},
   "outputs": [
    {
     "name": "stdout",
     "output_type": "stream",
     "text": [
      "  Dst Port Flow Duration Tot Fwd Pkts TotLen Fwd Pkts Fwd Pkt Len Max  \\\n",
      "0      443         94658            6             708             387   \n",
      "1      443           206            2               0               0   \n",
      "2      445        165505            3               0               0   \n",
      "3      443        102429            6             708             387   \n",
      "4      443           167            2               0               0   \n",
      "\n",
      "  Fwd Pkt Len Min Fwd Pkt Len Mean Fwd Pkt Len Std Bwd Pkt Len Max  \\\n",
      "0               0              118         159.285            1460   \n",
      "1               0                0               0               0   \n",
      "2               0                0               0               0   \n",
      "3               0              118         159.285            1460   \n",
      "4               0                0               0               0   \n",
      "\n",
      "        Flow Byts/s  ... Pkt Len Mean Pkt Len Var PSH Flag Cnt ACK Flag Cnt  \\\n",
      "0  46757.8017705846  ...      316.143      269575            1            0   \n",
      "1                 0  ...            0           0            0            1   \n",
      "2                 0  ...            0           0            1            0   \n",
      "3  43210.4189243281  ...      316.143      269575            1            0   \n",
      "4                 0  ...            0           0            0            1   \n",
      "\n",
      "  Down/Up Ratio Init Fwd Win Byts Init Bwd Win Byts Fwd Act Data Pkt  \\\n",
      "0             1              8192              7484              NaN   \n",
      "1             0               258                -1              NaN   \n",
      "2             0              8192              8192              NaN   \n",
      "3             1              8192              7484              NaN   \n",
      "4             0               258                -1              NaN   \n",
      "\n",
      "  Fwd Seg Size Min Active Min  \n",
      "0               20          0  \n",
      "1               20          0  \n",
      "2               20          0  \n",
      "3               20          0  \n",
      "4               20          0  \n",
      "\n",
      "[5 rows x 36 columns]\n"
     ]
    }
   ],
   "source": []
  },
  {
   "cell_type": "code",
   "execution_count": 25,
   "metadata": {},
   "outputs": [
    {
     "name": "stdout",
     "output_type": "stream",
     "text": [
      "Dst Port\n",
      "(15861985,)\n",
      "(15861985, 36)\n",
      "Flow Duration\n",
      "(15861985,)\n",
      "(15861985, 36)\n",
      "Tot Fwd Pkts\n",
      "(15861985,)\n",
      "(15861985, 36)\n",
      "TotLen Fwd Pkts\n",
      "(15861985,)\n",
      "(15861985, 36)\n",
      "Fwd Pkt Len Max\n",
      "(15861985,)\n",
      "(15861985, 36)\n",
      "Fwd Pkt Len Min\n",
      "(15861985,)\n",
      "(15861985, 36)\n",
      "Fwd Pkt Len Mean\n",
      "(15861985,)\n",
      "(15861985, 36)\n",
      "Fwd Pkt Len Std\n",
      "(15861985,)\n",
      "(15861985, 36)\n",
      "Bwd Pkt Len Max\n",
      "(15861985,)\n",
      "(15861985, 36)\n",
      "Flow Byts/s\n",
      "(4991201,)\n",
      "(4991201, 36)\n",
      "Flow Pkts/s\n",
      "(4991201,)\n",
      "(4991201, 36)\n",
      "Flow IAT Mean\n",
      "(4991201,)\n",
      "(4991201, 36)\n",
      "Flow IAT Std\n",
      "(4991201,)\n",
      "(4991201, 36)\n",
      "Flow IAT Max\n",
      "(4991201,)\n",
      "(4991201, 36)\n",
      "Flow IAT Min\n",
      "(4991201,)\n",
      "(4991201, 36)\n",
      "Fwd IAT Mean\n",
      "(4991201,)\n",
      "(4991201, 36)\n",
      "Fwd IAT Std\n",
      "(4991201,)\n",
      "(4991201, 36)\n",
      "Fwd IAT Min\n",
      "(4991201,)\n",
      "(4991201, 36)\n",
      "Bwd IAT Tot\n",
      "(4991201,)\n",
      "(4991201, 36)\n",
      "Bwd IAT Mean\n",
      "(4991201,)\n",
      "(4991201, 36)\n",
      "Bwd IAT Std\n",
      "(4991201,)\n",
      "(4991201, 36)\n",
      "Bwd IAT Max\n",
      "(4991201,)\n",
      "(4991201, 36)\n",
      "Fwd Header Len\n",
      "(4991201,)\n",
      "(4991201, 36)\n",
      "Bwd Header Len\n",
      "(4991201,)\n",
      "(4991201, 36)\n",
      "Bwd Pkts/s\n",
      "(4991201,)\n",
      "(4991201, 36)\n",
      "Pkt Len Min\n",
      "(4991201,)\n",
      "(4991201, 36)\n",
      "Pkt Len Mean\n",
      "(4991201,)\n",
      "(4991201, 36)\n",
      "Pkt Len Var\n",
      "(4991201,)\n",
      "(4991201, 36)\n",
      "PSH Flag Cnt\n",
      "(4991201,)\n",
      "(4991201, 36)\n",
      "ACK Flag Cnt\n",
      "(4991201,)\n",
      "(4991201, 36)\n",
      "Down/Up Ratio\n",
      "(4991201,)\n",
      "(4991201, 36)\n",
      "Init Fwd Win Byts\n",
      "(4991201,)\n",
      "(4991201, 36)\n",
      "Init Bwd Win Byts\n",
      "(4991201,)\n",
      "(4991201, 36)\n",
      "Fwd Act Data Pkt\n",
      "(4991201,)\n",
      "(4991201, 36)\n",
      "Fwd Seg Size Min\n",
      "(4991201,)\n",
      "(4991201, 36)\n",
      "Active Min\n",
      "(4991201,)\n",
      "(4991201, 36)\n"
     ]
    }
   ],
   "source": [
    "for i in c_df.columns:\n",
    "    print(i)\n",
    "    if i=='Label':\n",
    "        continue\n",
    "    tf_l = c_df[i].apply(type)!=type('abc')\n",
    "    c_df = c_df[tf_l]\n",
    "    y = y[tf_l]\n",
    "    print(y.shape)\n",
    "    print(c_df.shape)"
   ]
  },
  {
   "cell_type": "code",
   "execution_count": 1,
   "metadata": {},
   "outputs": [],
   "source": [
    "import pandas as pd"
   ]
  },
  {
   "cell_type": "code",
   "execution_count": 4,
   "metadata": {},
   "outputs": [],
   "source": [
    "string_col = 'Dst Port, Flow Duration, Tot Fwd Pkts, TotLen Fwd Pkts, Fwd Pkt Len Max, Fwd Pkt Len Min, Fwd Pkt Len Mean, Fwd Pkt Len Std, Bwd Pkt Len Max, Flow Byts/s, Flow Pkts/s, Flow IAT Mean, Flow IAT Std, Flow IAT Max, Flow IAT Min, Fwd IAT Mean, Fwd IAT Std, Fwd IAT Min, Bwd IAT Tot, Bwd IAT Mean, Bwd IAT Std, Bwd IAT Max, Fwd Header Len, Bwd Header Len, Bwd Pkts/s, Pkt Len Min, Pkt Len Mean, Pkt Len Var, PSH Flag Cnt, ACK Flag Cnt, Down/Up Ratio, Init Fwd Win Byts, Init Bwd Win Byts, Fwd Act Data Pkts, Fwd Seg Size Min, Active Min'\n",
    "list_of_col = string_col.split(', ')\n",
    "list_of_col.append('Label')\n",
    "# list_of_col.append('Protocol')\n",
    "# list_of_col.append('Timestamp')"
   ]
  },
  {
   "cell_type": "code",
   "execution_count": null,
   "metadata": {},
   "outputs": [],
   "source": []
  },
  {
   "cell_type": "code",
   "execution_count": 2,
   "metadata": {},
   "outputs": [
    {
     "name": "stderr",
     "output_type": "stream",
     "text": [
      "/Users/tanaysinghania/miniconda3/envs/py36/lib/python3.6/site-packages/IPython/core/interactiveshell.py:3072: DtypeWarning: Columns (0,1,3,4,5,6,7,8,9,10,11,12,13,14,15,16,17,18,19,20,21,22,23,24,25,26,27,28,29,30,31,32,33,34,35,36,37,38,39,40,41,42,43,44,45,46,47,48,49,50,51,52,53,54,55,56,57,58,59,60,61,62,63,64,65,66,67,68,69,70,71,72,73,74,75,76,77,78,80,81,83) have mixed types.Specify dtype option on import or set low_memory=False.\n",
      "  interactivity=interactivity, compiler=compiler, result=result)\n"
     ]
    }
   ],
   "source": [
    "c_df = pd.read_csv('../../dataset/combined_csv.csv')"
   ]
  },
  {
   "cell_type": "code",
   "execution_count": null,
   "metadata": {},
   "outputs": [
    {
     "name": "stdout",
     "output_type": "stream",
     "text": [
      "Dst Port\n",
      "Protocol\n",
      "Timestamp\n",
      "Flow Duration\n",
      "Tot Fwd Pkts\n",
      "Tot Bwd Pkts\n",
      "TotLen Fwd Pkts\n",
      "TotLen Bwd Pkts\n",
      "Fwd Pkt Len Max\n",
      "Fwd Pkt Len Min\n",
      "Fwd Pkt Len Mean\n",
      "Fwd Pkt Len Std\n",
      "Bwd Pkt Len Max\n",
      "Bwd Pkt Len Min\n",
      "(15929898, 84)\n",
      "Bwd Pkt Len Mean\n",
      "(15929898, 84)\n",
      "Bwd Pkt Len Std\n",
      "(15929898, 84)\n",
      "Flow Byts/s\n",
      "(15929898, 84)\n",
      "Flow Pkts/s\n",
      "(15929898, 84)\n",
      "Flow IAT Mean\n",
      "(15929898, 84)\n",
      "Flow IAT Std\n",
      "(15929898, 84)\n",
      "Flow IAT Max\n",
      "(15929898, 84)\n",
      "Flow IAT Min\n",
      "(15929898, 84)\n",
      "Fwd IAT Tot\n",
      "(15929898, 84)\n",
      "Fwd IAT Mean\n",
      "(15929898, 84)\n",
      "Fwd IAT Std\n",
      "(15929898, 84)\n",
      "Fwd IAT Max\n",
      "(15929898, 84)\n",
      "Fwd IAT Min\n",
      "(15929898, 84)\n",
      "Bwd IAT Tot\n",
      "(15929898, 84)\n",
      "Bwd IAT Mean\n",
      "(15929898, 84)\n",
      "Bwd IAT Std\n",
      "(15929898, 84)\n",
      "Bwd IAT Max\n",
      "(15929898, 84)\n",
      "Bwd IAT Min\n",
      "(15929898, 84)\n",
      "Fwd PSH Flags\n",
      "(15929898, 84)\n",
      "Bwd PSH Flags\n",
      "(15929898, 84)\n",
      "Fwd URG Flags\n",
      "(15929898, 84)\n",
      "Bwd URG Flags\n",
      "(15929898, 84)\n",
      "Fwd Header Len\n",
      "(15929898, 84)\n",
      "Bwd Header Len\n",
      "(15929898, 84)\n",
      "Fwd Pkts/s\n",
      "(15929898, 84)\n",
      "Bwd Pkts/s\n",
      "(15929898, 84)\n",
      "Pkt Len Min\n",
      "(15929898, 84)\n",
      "Pkt Len Max\n",
      "(15929898, 84)\n",
      "Pkt Len Mean\n",
      "(15929898, 84)\n",
      "Pkt Len Std\n",
      "(15929898, 84)\n",
      "Pkt Len Var\n",
      "(15929898, 84)\n",
      "FIN Flag Cnt\n",
      "(15929898, 84)\n",
      "SYN Flag Cnt\n",
      "(15929898, 84)\n",
      "RST Flag Cnt\n",
      "(15929898, 84)\n",
      "PSH Flag Cnt\n",
      "(15929898, 84)\n",
      "ACK Flag Cnt\n",
      "(15929898, 84)\n",
      "URG Flag Cnt\n",
      "(15929898, 84)\n",
      "CWE Flag Count\n",
      "(15929898, 84)\n",
      "ECE Flag Cnt\n",
      "(15929898, 84)\n",
      "Down/Up Ratio\n",
      "(15929898, 84)\n",
      "Pkt Size Avg\n",
      "(15929898, 84)\n",
      "Fwd Seg Size Avg\n",
      "(15929898, 84)\n",
      "Bwd Seg Size Avg\n",
      "(15929898, 84)\n",
      "Fwd Byts/b Avg\n",
      "(15929898, 84)\n",
      "Fwd Pkts/b Avg\n",
      "(15929898, 84)\n",
      "Fwd Blk Rate Avg\n",
      "(15929898, 84)\n",
      "Bwd Byts/b Avg\n",
      "(15929898, 84)\n",
      "Bwd Pkts/b Avg\n",
      "(15929898, 84)\n",
      "Bwd Blk Rate Avg\n",
      "(15929898, 84)\n",
      "Subflow Fwd Pkts\n",
      "(15929898, 84)\n",
      "Subflow Fwd Byts\n",
      "(15929898, 84)\n",
      "Subflow Bwd Pkts\n",
      "(15929898, 84)\n",
      "Subflow Bwd Byts\n",
      "(15929898, 84)\n",
      "Init Fwd Win Byts\n",
      "(15929898, 84)\n",
      "Init Bwd Win Byts\n",
      "(15929898, 84)\n",
      "Fwd Act Data Pkts\n",
      "(15929898, 84)\n",
      "Fwd Seg Size Min\n"
     ]
    }
   ],
   "source": [
    "for i in c_df.columns:\n",
    "    print(i)\n",
    "    if i in ['Label','Dst Port','Protocol','Timestamp','Fwd Pkt Len Mean','Fwd Pkt Len Min','Fwd Pkt Len Max','TotLen Bwd Pkts','TotLen Fwd Pkts','Tot Bwd Pkts','Tot Fwd Pkts','Flow Duration','Fwd Pkt Len Std','Bwd Pkt Len Max']:\n",
    "        continue\n",
    "    tf_l = c_df[i].apply(type)!=type('abc')\n",
    "    if False in tf_l :\n",
    "        c_df = c_df[tf_l]\n",
    "    print(c_df.shape)"
   ]
  },
  {
   "cell_type": "code",
   "execution_count": 8,
   "metadata": {},
   "outputs": [
    {
     "data": {
      "text/html": [
       "<div>\n",
       "<style scoped>\n",
       "    .dataframe tbody tr th:only-of-type {\n",
       "        vertical-align: middle;\n",
       "    }\n",
       "\n",
       "    .dataframe tbody tr th {\n",
       "        vertical-align: top;\n",
       "    }\n",
       "\n",
       "    .dataframe thead th {\n",
       "        text-align: right;\n",
       "    }\n",
       "</style>\n",
       "<table border=\"1\" class=\"dataframe\">\n",
       "  <thead>\n",
       "    <tr style=\"text-align: right;\">\n",
       "      <th></th>\n",
       "      <th>Dst Port</th>\n",
       "      <th>Protocol</th>\n",
       "      <th>Flow Duration</th>\n",
       "      <th>Tot Fwd Pkts</th>\n",
       "      <th>Tot Bwd Pkts</th>\n",
       "      <th>TotLen Fwd Pkts</th>\n",
       "      <th>TotLen Bwd Pkts</th>\n",
       "      <th>Fwd Pkt Len Max</th>\n",
       "      <th>Fwd Pkt Len Min</th>\n",
       "      <th>Fwd Pkt Len Mean</th>\n",
       "      <th>...</th>\n",
       "      <th>Active Max</th>\n",
       "      <th>Active Min</th>\n",
       "      <th>Idle Mean</th>\n",
       "      <th>Idle Std</th>\n",
       "      <th>Idle Max</th>\n",
       "      <th>Idle Min</th>\n",
       "      <th>Flow ID</th>\n",
       "      <th>Src IP</th>\n",
       "      <th>Src Port</th>\n",
       "      <th>Dst IP</th>\n",
       "    </tr>\n",
       "  </thead>\n",
       "  <tbody>\n",
       "  </tbody>\n",
       "</table>\n",
       "<p>0 rows × 82 columns</p>\n",
       "</div>"
      ],
      "text/plain": [
       "Empty DataFrame\n",
       "Columns: [Dst Port, Protocol, Flow Duration, Tot Fwd Pkts, Tot Bwd Pkts, TotLen Fwd Pkts, TotLen Bwd Pkts, Fwd Pkt Len Max, Fwd Pkt Len Min, Fwd Pkt Len Mean, Fwd Pkt Len Std, Bwd Pkt Len Max, Bwd Pkt Len Min, Bwd Pkt Len Mean, Bwd Pkt Len Std, Flow Byts/s, Flow Pkts/s, Flow IAT Mean, Flow IAT Std, Flow IAT Max, Flow IAT Min, Fwd IAT Tot, Fwd IAT Mean, Fwd IAT Std, Fwd IAT Max, Fwd IAT Min, Bwd IAT Tot, Bwd IAT Mean, Bwd IAT Std, Bwd IAT Max, Bwd IAT Min, Fwd PSH Flags, Bwd PSH Flags, Fwd URG Flags, Bwd URG Flags, Fwd Header Len, Bwd Header Len, Fwd Pkts/s, Bwd Pkts/s, Pkt Len Min, Pkt Len Max, Pkt Len Mean, Pkt Len Std, Pkt Len Var, FIN Flag Cnt, SYN Flag Cnt, RST Flag Cnt, PSH Flag Cnt, ACK Flag Cnt, URG Flag Cnt, CWE Flag Count, ECE Flag Cnt, Down/Up Ratio, Pkt Size Avg, Fwd Seg Size Avg, Bwd Seg Size Avg, Fwd Byts/b Avg, Fwd Pkts/b Avg, Fwd Blk Rate Avg, Bwd Byts/b Avg, Bwd Pkts/b Avg, Bwd Blk Rate Avg, Subflow Fwd Pkts, Subflow Fwd Byts, Subflow Bwd Pkts, Subflow Bwd Byts, Init Fwd Win Byts, Init Bwd Win Byts, Fwd Act Data Pkts, Fwd Seg Size Min, Active Mean, Active Std, Active Max, Active Min, Idle Mean, Idle Std, Idle Max, Idle Min, Flow ID, Src IP, Src Port, Dst IP]\n",
       "Index: []\n",
       "\n",
       "[0 rows x 82 columns]"
      ]
     },
     "execution_count": 8,
     "metadata": {},
     "output_type": "execute_result"
    }
   ],
   "source": [
    "X.apply(lambda x: pd.to_numeric(x, errors='coerce')).dropna()"
   ]
  },
  {
   "cell_type": "code",
   "execution_count": 7,
   "metadata": {},
   "outputs": [],
   "source": [
    "Y = c_df.loc[:,'Label']\n",
    "X = c_df.drop(columns=['Label','Timestamp'])"
   ]
  },
  {
   "cell_type": "code",
   "execution_count": 9,
   "metadata": {},
   "outputs": [
    {
     "data": {
      "text/plain": [
       "(15929898, 82)"
      ]
     },
     "execution_count": 9,
     "metadata": {},
     "output_type": "execute_result"
    }
   ],
   "source": [
    "X.shape"
   ]
  },
  {
   "cell_type": "code",
   "execution_count": 13,
   "metadata": {},
   "outputs": [
    {
     "data": {
      "text/plain": [
       "0           True\n",
       "1           True\n",
       "2           True\n",
       "3           True\n",
       "4           True\n",
       "            ... \n",
       "15826456    True\n",
       "15826457    True\n",
       "15826458    True\n",
       "15826459    True\n",
       "15826460    True\n",
       "Name: ACK Flag Cnt, Length: 15826461, dtype: bool"
      ]
     },
     "execution_count": 13,
     "metadata": {},
     "output_type": "execute_result"
    }
   ],
   "source": [
    "X['ACK Flag Cnt'].apply(type)!=type('abc')"
   ]
  },
  {
   "cell_type": "code",
   "execution_count": 1,
   "metadata": {},
   "outputs": [],
   "source": [
    "import numpy as np"
   ]
  },
  {
   "cell_type": "code",
   "execution_count": null,
   "metadata": {},
   "outputs": [],
   "source": []
  }
 ],
 "metadata": {
  "kernelspec": {
   "display_name": "Python 3",
   "language": "python",
   "name": "python3"
  },
  "language_info": {
   "codemirror_mode": {
    "name": "ipython",
    "version": 3
   },
   "file_extension": ".py",
   "mimetype": "text/x-python",
   "name": "python",
   "nbconvert_exporter": "python",
   "pygments_lexer": "ipython3",
   "version": "3.6.12"
  }
 },
 "nbformat": 4,
 "nbformat_minor": 2
}
